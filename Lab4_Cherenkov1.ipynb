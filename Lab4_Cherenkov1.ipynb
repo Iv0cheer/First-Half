{
  "nbformat": 4,
  "nbformat_minor": 0,
  "metadata": {
    "colab": {
      "provenance": [],
      "collapsed_sections": [
        "i3tPE3vWTqqI",
        "-9y4zq__VKMU",
        "0UyFor9XXkIg",
        "lwSwaueNa0Hl",
        "TZc0Q7voeE3e",
        "lFnM2A8xg_Rg",
        "vC0GGbl6lZ1a",
        "iw-a8XiK5Rz5",
        "EYm23jpEUz3q",
        "cNFwN2DRthEK",
        "fghwpXVrviLw",
        "8lgLksU5NdsT",
        "ASgrW3IviVef",
        "o6Kv15m0AYSQ",
        "8Xvw8tEdFrF4",
        "LHGALJsZIXOb",
        "agyRiyVoNf3t",
        "BGc8-tn4UIpz",
        "E3I8rpcTVhOh",
        "u7IZ3AgPWddE",
        "ixW-xxnCq81a",
        "n8TzONx3rWB2",
        "N-VV2MjKybh2",
        "cRH5ufjpg6JT",
        "NYfKEpL8im4i",
        "RaSFusyPjCiE",
        "-LPavSKmjKW2"
      ],
      "authorship_tag": "ABX9TyNwBA8Ck+kTe6b2giDbcr+K",
      "include_colab_link": true
    },
    "kernelspec": {
      "name": "python3",
      "display_name": "Python 3"
    },
    "language_info": {
      "name": "python"
    }
  },
  "cells": [
    {
      "cell_type": "markdown",
      "metadata": {
        "id": "view-in-github",
        "colab_type": "text"
      },
      "source": [
        "<a href=\"https://colab.research.google.com/github/Iv0cheer/IvCherenkov_Lab/blob/main/Lab4_Cherenkov1.ipynb\" target=\"_parent\"><img src=\"https://colab.research.google.com/assets/colab-badge.svg\" alt=\"Open In Colab\"/></a>"
      ]
    },
    {
      "cell_type": "markdown",
      "source": [
        "# Программирование на языке высокого уровня (Python).\n",
        "# https://www.yuripetrov.ru/edu/python\n",
        "# Лабораторная работа №4\n",
        "\n",
        "# Выполнил: Черенков И.Р.\n",
        "# Группа: АДЭУ-221\n",
        "# E-mail: iv0.cheer@gmail.com"
      ],
      "metadata": {
        "id": "S0jgC3tjTO_M"
      }
    },
    {
      "cell_type": "markdown",
      "source": [
        "#№ 4.2.1\n",
        "\n",
        "Рассчитать значение f при заданном значении вещественного числа x:\n",
        "\n",
        "![1.png](data:image/png;base64,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)"
      ],
      "metadata": {
        "id": "i3tPE3vWTqqI"
      }
    },
    {
      "cell_type": "code",
      "execution_count": null,
      "metadata": {
        "colab": {
          "base_uri": "https://localhost:8080/"
        },
        "id": "NuSmcPU_Syi0",
        "outputId": "f3a4da38-05c6-4ada-9dcd-69772deae0a7"
      },
      "outputs": [
        {
          "output_type": "stream",
          "name": "stdout",
          "text": [
            "10\n",
            "Получившийся результат:  103.16\n"
          ]
        }
      ],
      "source": [
        "x = int(input())\n",
        "\n",
        "if x >= 0:\n",
        "    f = (x**(1/2))+(x**2)\n",
        "else:\n",
        "    f = 1/x\n",
        "\n",
        "print('Получившийся результат: ', round(f, 2))\n",
        "\n",
        "# --------------\n",
        "# Пример вывода:\n",
        "#\n",
        "# Введите число x: -10\n",
        "# f = -0.10\n",
        "\n",
        "# Введите число x: 0\n",
        "# f = 0.00\n",
        "\n",
        "# Введите число x: 10\n",
        "# f = 103.16"
      ]
    },
    {
      "cell_type": "markdown",
      "source": [
        "#№ 4.2.2\n",
        "\n",
        "Определите максимальное и минимальное значения из двух различных целых чисел."
      ],
      "metadata": {
        "id": "-9y4zq__VKMU"
      }
    },
    {
      "cell_type": "code",
      "source": [
        "a1 = int(input('Введите первое целое число. '))\n",
        "a2 = int(input('Введите второе целое число. ' ))\n",
        "\n",
        "if a1 == a2:\n",
        "    print('Числа одинаковы.')\n",
        "else:\n",
        "    if a1 > a2:\n",
        "        print('Максимум: ', a1, 'Минимум: ', a2)\n",
        "    else:\n",
        "        print('Максимум: ', a2, 'Минимум: ', a1)\n",
        "\n",
        "# --------------\n",
        "# Пример вывода:\n",
        "#\n",
        "# Введите первое число: 1\n",
        "# Введите второе число: 2\n",
        "# Максимум: 2, минимум: 1\n",
        "\n",
        "# Введите первое число: 5\n",
        "# Введите второе число: 5\n",
        "# Максимум: 5, минимум: 5\n",
        "\n",
        "# Введите первое число: 100\n",
        "# Введите второе число: -1\n",
        "# Максимум: 100, минимум: -1"
      ],
      "metadata": {
        "colab": {
          "base_uri": "https://localhost:8080/"
        },
        "id": "NTyR8MumVO6m",
        "outputId": "736a26a0-353b-41f4-c743-b1a64ccf498c"
      },
      "execution_count": null,
      "outputs": [
        {
          "output_type": "stream",
          "name": "stdout",
          "text": [
            "Введите первое целое число. 50\n",
            "Введите второе целое число. 20\n",
            "Максимум:  50 Минимум:  20\n"
          ]
        }
      ]
    },
    {
      "cell_type": "markdown",
      "source": [
        "#№ 4.2.3\n",
        "\n",
        "Вася пытается высунуть голову в форточку размерами a и b см. Приняв условно, что его голова - круглая диаметром d см, определите, сможет ли Вася сделать это. Для прохождения головы в форточку необходим зазор в 1 см. с каждой стороны."
      ],
      "metadata": {
        "id": "0UyFor9XXkIg"
      }
    },
    {
      "cell_type": "code",
      "source": [
        "a = int(input('Введите значение ширины форточки: '))\n",
        "h = int(input('Введите значение высоты форточки: '))\n",
        "d = int(input('Введите значение диаметра головы мальчика: '))\n",
        "\n",
        "if ((a or h or d) < 0):\n",
        "    print('Ошибка. Невозможно выполнить скрипт. Вы ввели отрицательное значение.')\n",
        "else:\n",
        "    if ((a-1>=d) and (h-1>=d)):\n",
        "        print('Да.')\n",
        "    else:\n",
        "        print('Нет.')\n",
        "\n",
        "# --------------\n",
        "# Пример вывода:\n",
        "#\n",
        "# Ширина форточки: 5\n",
        "# Высота форточки: 6\n",
        "# Диаметр головы: 6\n",
        "# Нет\n",
        "\n",
        "# Ширина форточки: 6\n",
        "# Высота форточки: 7\n",
        "# Диаметр головы: 4\n",
        "# Да"
      ],
      "metadata": {
        "id": "WD90djpPYeK-"
      },
      "execution_count": null,
      "outputs": []
    },
    {
      "cell_type": "markdown",
      "source": [
        "#№ 4.2.4\n",
        "\n",
        "Известны год и номер месяца сегодняшнего дня, а также год и номер месяца рождения человека (нумерация месяцев с 1: январь - 1 и т.д.). Определите возраст человека (число полных лет)."
      ],
      "metadata": {
        "id": "lwSwaueNa0Hl"
      }
    },
    {
      "cell_type": "code",
      "source": [
        "y_today = int(input('Введите текущий год: '))\n",
        "m_today = int(input('Введите текущий месяц: '))\n",
        "\n",
        "y_need = int(input('Введите год рождения: '))\n",
        "m_need = int(input('Введите месяц рождения: '))\n",
        "\n",
        "age = y_today-y_need\n",
        "\n",
        "if (m_today or m_need)<=0:\n",
        "    print('Невозможно выполнить скрипт.')\n",
        "else:\n",
        "    if m_need>m_today:\n",
        "        print('Число полных лет:', age-1)\n",
        "    else:\n",
        "        print('Число полных лет:', age)\n",
        "\n",
        "# --------------\n",
        "# Пример вывода:\n",
        "#\n",
        "# Введите текущий год: 2017\n",
        "# Введите текущий месяц: 5\n",
        "# Введите год рождения: 2000\n",
        "# Введите месяц рождения: 1\n",
        "# Число полных лет:  17\n",
        "#\n",
        "# Введите текущий год: 2015\n",
        "# Введите текущий месяц: 6\n",
        "# Введите год рождения: 2010\n",
        "# Введите месяц рождения: 8\n",
        "# Число полных лет:  4\n",
        "#\n",
        "# Введите текущий год: 2020\n",
        "# Введите текущий месяц: 5\n",
        "# Введите год рождения: 2000\n",
        "# Введите месяц рождения: 5\n",
        "# Число полных лет:  20"
      ],
      "metadata": {
        "colab": {
          "base_uri": "https://localhost:8080/"
        },
        "id": "g-G_Cxcoa5mN",
        "outputId": "b2595a9a-d926-4b22-8f19-5f8c3e14fc28"
      },
      "execution_count": null,
      "outputs": [
        {
          "output_type": "stream",
          "name": "stdout",
          "text": [
            "Введите текущий год: 2017\n",
            "Введите текущий месяц: 5\n",
            "Введите год рождения: 2000\n",
            "Введите месяц рождения: 1\n",
            "Число полных лет: 17\n"
          ]
        }
      ]
    },
    {
      "cell_type": "markdown",
      "source": [
        "#№ 4.2.5\n",
        "\n",
        "Дана точка с целыми ненулевыми координатами (x;y). Определить номер четверти координатной плоскости, которой она принадлежит."
      ],
      "metadata": {
        "id": "TZc0Q7voeE3e"
      }
    },
    {
      "cell_type": "code",
      "source": [
        "x = int(input('Введите значение абсциссы: '))\n",
        "y = int(input('Введите значение ординаты: '))\n",
        "\n",
        "if (x>0 and y>0):\n",
        "    print('Точка находится в 1-й четверти.')\n",
        "elif (x<0 and y>0):\n",
        "    print('Точка находится во 2-й четверти.')\n",
        "elif (x<0 and y<0):\n",
        "    print('Точка находится в 3-й четверти.')\n",
        "elif (x>0 and y<0):\n",
        "    print('Точка находится в 4-й четверти.')\n",
        "elif (x==0 and y==0):\n",
        "    print('Точка находится на пересечении осей x и y.') #Решил также сделать проверку данных точки на значение 0.\n",
        "elif x==0:\n",
        "    print('Точка находится на оси x.') #Решил также сделать проверку данных точки на значение 0.\n",
        "elif y==0:\n",
        "    print('Точка находится на оси y.') #Решил также сделать проверку данных точки на значение 0.\n",
        "\n",
        "# --------------\n",
        "# Пример вывода:\n",
        "#\n",
        "# Введите координату x: 5\n",
        "# Введите координату y: 7\n",
        "# 1-я четверть\n"
      ],
      "metadata": {
        "id": "f4S-4ec7eHqN"
      },
      "execution_count": null,
      "outputs": []
    },
    {
      "cell_type": "markdown",
      "source": [
        "#№ 4.2.6\n",
        "\n",
        "Даны вещественные числа a, b, c (a≠0).\n",
        "\n",
        "Решите уравнение ax^2+bx+c=0. При выводе значений оставьте 1 знак после запятой."
      ],
      "metadata": {
        "id": "lFnM2A8xg_Rg"
      }
    },
    {
      "cell_type": "code",
      "source": [
        "a = float(input('Введите значение a: '))\n",
        "b = float(input('Введите значение b: '))\n",
        "c = float(input('Введите значение c: '))\n",
        "\n",
        "d = ((b**2)-(4*a*c))\n",
        "if d<0:\n",
        "    print('Нет решения.')\n",
        "elif d==0:\n",
        "    x1 = ((-1*b)/2*a)\n",
        "    print('x = ', x1)\n",
        "elif d>0:\n",
        "    x2 = (((-1*b)+(d**(1/2)))/2*a)\n",
        "    x1 = (((-1*b)-(d**(1/2)))/2*a)\n",
        "    print('x1 =',x1,'x2 =',x2)\n",
        "\n",
        "# --------------\n",
        "# Пример вывода:\n",
        "#\n",
        "# a = 1\n",
        "# b = 2\n",
        "# c = 3\n",
        "# Решений нет\n",
        "#\n",
        "# a = 1\n",
        "# b = 2\n",
        "# c = 1\n",
        "# x = -1.0\n",
        "#\n",
        "# a = 1\n",
        "# b = 3\n",
        "# c = -4\n",
        "# x1 = -4.0, x2 = 1.0"
      ],
      "metadata": {
        "id": "uLJ5FL-AhKUl"
      },
      "execution_count": null,
      "outputs": []
    },
    {
      "cell_type": "markdown",
      "source": [
        "#№ 4.2.7\n",
        "\n",
        "Дана непустая последовательность целых чисел, оканчивающаяся нулем. Найти сумму и количество введенных чисел."
      ],
      "metadata": {
        "id": "vC0GGbl6lZ1a"
      }
    },
    {
      "cell_type": "code",
      "source": [
        "x = int(input('Введите первое целое число: '))\n",
        "n = list()\n",
        "\n",
        "while x!=0:\n",
        "    n.append(x)\n",
        "    x = int(input('Введите дополнительное число: '))\n",
        "\n",
        "print('Количество = ', len(n))\n",
        "print('Сумма = ',sum(n))\n",
        "\n",
        "# --------------\n",
        "# Пример вывода:\n",
        "#\n",
        "# Введите 1-е число: 1\n",
        "# Введите 2-е число: 2\n",
        "# Введите 3-е число: 3\n",
        "# Введите 4-е число: 4\n",
        "# Введите 5-е число: 0\n",
        "# Сумма = 10\n",
        "# Количество = 4\n",
        "#\n",
        "# Введите 1-е число: 0\n",
        "# Сумма = 0\n",
        "# Количество = 0"
      ],
      "metadata": {
        "colab": {
          "base_uri": "https://localhost:8080/"
        },
        "id": "y8CvKWSYliYR",
        "outputId": "880204ee-94c1-4000-b16c-aaceb835c645"
      },
      "execution_count": null,
      "outputs": [
        {
          "output_type": "stream",
          "name": "stdout",
          "text": [
            "Введите число. 1\n",
            "Введите новое число. 2\n",
            "Введите новое число. 3\n",
            "Введите новое число. 4\n",
            "Введите новое число. 0\n",
            "Сумма =  10\n",
            "Количество =  4\n"
          ]
        }
      ]
    },
    {
      "cell_type": "markdown",
      "source": [
        "#№ 4.2.8\n",
        "\n",
        "Дано число n. Из чисел 0,5,10,15,20,25,... напечатать те, которые не превышают n."
      ],
      "metadata": {
        "id": "iw-a8XiK5Rz5"
      }
    },
    {
      "cell_type": "code",
      "source": [
        "n = int(input('Введите число n: '))\n",
        "\n",
        "g = 0\n",
        "print('0')\n",
        "\n",
        "while g<=n:\n",
        "    g = g+5\n",
        "    if g<n:\n",
        "      print(g)\n",
        "    else:\n",
        "      break\n",
        "\n",
        "# --------------\n",
        "# Пример вывода:\n",
        "#\n",
        "# n = 0\n",
        "# 0\n",
        "#\n",
        "# n = 10\n",
        "# 0\n",
        "# 5\n",
        "# 10\n",
        "#\n",
        "# n = 12\n",
        "# 0\n",
        "# 5\n",
        "# 10"
      ],
      "metadata": {
        "colab": {
          "base_uri": "https://localhost:8080/"
        },
        "id": "Q1Rj-ADq5bWY",
        "outputId": "825f0a97-c926-4609-cfbc-ddfcdf2d1b30"
      },
      "execution_count": null,
      "outputs": [
        {
          "output_type": "stream",
          "name": "stdout",
          "text": [
            "Введите число n: 12\n",
            "0\n",
            "5\n",
            "10\n"
          ]
        }
      ]
    },
    {
      "cell_type": "markdown",
      "source": [
        "#№ 4.2.9\n",
        "\n",
        "Дано вещественное число a. Найдите наименьшее натуральное n, для которого верно:\n",
        "\n",
        "![image.png](data:image/png;base64,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)"
      ],
      "metadata": {
        "id": "EYm23jpEUz3q"
      }
    },
    {
      "cell_type": "code",
      "source": [
        "a = float(input('Введите вещественное число: ')) #Ввожу вещественное число\n",
        "\n",
        "n = 1 #Присваиваю к переменной статичное значение (т.к. по условию n>=1)\n",
        "x_sum = list() #Создаю список\n",
        "x_sum.append(n) #Добавляю первым элементом в список переменную n (=1), чтобы в последующем не считать 1 в сумме.\n",
        "\n",
        "while sum(x_sum)<=a: #Добавляю проверку данных (цикл).\n",
        "    n = n+1\n",
        "    g = 1/n\n",
        "    x_sum.append(g) #Добавляю заключительным элементом переменную g.\n",
        "\n",
        "print(n)\n",
        "\n",
        "# Удалите комментарий и допишите код\n",
        "\n",
        "# --------------\n",
        "# Пример вывода:\n",
        "#\n",
        "# a = 1.5\n",
        "# n = 3\n",
        "#\n",
        "# a = 2\n",
        "# n = 4"
      ],
      "metadata": {
        "id": "FwoQ0SqjU6-3",
        "colab": {
          "base_uri": "https://localhost:8080/"
        },
        "outputId": "fe14bd66-0457-41ca-af86-09d8df5dd3cf"
      },
      "execution_count": null,
      "outputs": [
        {
          "output_type": "stream",
          "name": "stdout",
          "text": [
            "Введите вещественное число: 2\n",
            "4\n"
          ]
        }
      ]
    },
    {
      "cell_type": "markdown",
      "source": [
        "#№ 4.2.10\n",
        "\n",
        "Дано натуральное число. Определите сумму и количество его цифр."
      ],
      "metadata": {
        "id": "cNFwN2DRthEK"
      }
    },
    {
      "cell_type": "code",
      "source": [
        "n = list(map(int, input('Введите целое натуральное число: '))) #Ввожу переменную с целым натуральным значением.\n",
        "\n",
        "#Map использует каждый элемент введенного числа.\n",
        "#List создает список.\n",
        "\n",
        "n_sum = sum(n) #Складываю вс элементы списка\n",
        "n_count = len(n) #Рассчитываю количество элементов в списке\n",
        "\n",
        "print('Сумма: ', n_sum)\n",
        "print('Количество: ', n_count)\n",
        "\n",
        "# Удалите комментарий и допишите код\n",
        "\n",
        "# --------------\n",
        "# Пример вывода:\n",
        "#\n",
        "# n = 12345\n",
        "# Сумма = 15\n",
        "# Количество = 5"
      ],
      "metadata": {
        "colab": {
          "base_uri": "https://localhost:8080/"
        },
        "id": "oe1_D0ootkhb",
        "outputId": "06c4317e-a27e-4114-813e-8bc074903a5c"
      },
      "execution_count": null,
      "outputs": [
        {
          "output_type": "stream",
          "name": "stdout",
          "text": [
            "Введите целое натуральное число: 123456\n",
            "Сумма:  21\n",
            "Количество:  6\n"
          ]
        }
      ]
    },
    {
      "cell_type": "markdown",
      "source": [
        "#№ 4.2.11\n",
        "\n",
        "Вывести в строку 10 первых натуральных чисел, оканчивающихся на цифру k, кратных числу s и находящихся в интервале, левая граница которого равна start."
      ],
      "metadata": {
        "id": "fghwpXVrviLw"
      }
    },
    {
      "cell_type": "code",
      "source": [
        "start = int(input('Введите значение левой границы: ')) #Начальное число, порог.\n",
        "k = int(input('Введите цифру, на которую будут заканчиваться числа: ')) #Последняя цифра каждого числа.\n",
        "s = int(input('Введите цифру, которой будут кратны числа: ')) #Цифра, на которую будут делиться все элементы списка.\n",
        "\n",
        "need = list()\n",
        "\n",
        "while start%s!=0: #Задаю проверку данных с циклом while.\n",
        "    start += 1\n",
        "else:\n",
        "    for x in range(99):\n",
        "        start += 1\n",
        "        while start%s!=0:\n",
        "            start += 1\n",
        "        else:\n",
        "            if start%10==k:\n",
        "                need.append(start)\n",
        "\n",
        "print(need[:10])\n",
        "\n",
        "# --------------\n",
        "# Пример вывода:\n",
        "#\n",
        "# start = 100\n",
        "# k = 7\n",
        "# s = 9\n",
        "# 117 207 297 387 477 567 657 747 837 927"
      ],
      "metadata": {
        "id": "k7qj_4yLvyD8",
        "colab": {
          "base_uri": "https://localhost:8080/"
        },
        "outputId": "71cb2c15-a227-4540-a3bf-8aad588e16f8"
      },
      "execution_count": null,
      "outputs": [
        {
          "output_type": "stream",
          "name": "stdout",
          "text": [
            "Введите значение левой границы: 100\n",
            "Введите цифру, на которую будут заканчиваться числа: 7\n",
            "Введите цифру, которой будут кратны числа: 9\n",
            "[117, 207, 297, 387, 477, 567, 657, 747, 837, 927]\n"
          ]
        }
      ]
    },
    {
      "cell_type": "markdown",
      "source": [
        "#№ 4.2.12\n",
        "\n",
        "Даны целые числа a и b (a может быть больше b). Напечатайте:\n",
        "\n",
        "• числа от минимального до максимального в строчку (разделяя пробелом);\n",
        "\n",
        "• числа от максимального до минимального «столбиком»."
      ],
      "metadata": {
        "id": "8lgLksU5NdsT"
      }
    },
    {
      "cell_type": "code",
      "source": [
        "a = int(input('Введите первое число: '))\n",
        "b = int(input('Введите второе число: '))\n",
        "\n",
        "ls = list(range(a,b+1,1))\n",
        "print(ls)\n",
        "\n",
        "\n",
        "ls.reverse()\n",
        "print(\"\\n\".join(map(str, ls))) #join воссоединяет все элементы списка, map применяет их ко всем элементам.\n",
        "\n",
        "# --------------\n",
        "# Пример вывода:\n",
        "#\n",
        "# a = 1\n",
        "# b = 5\n",
        "# 1 2 3 4 5\n",
        "# 5\n",
        "# 4\n",
        "# 3\n",
        "# 2\n",
        "# 1"
      ],
      "metadata": {
        "colab": {
          "base_uri": "https://localhost:8080/"
        },
        "id": "mjwEskRtNhh1",
        "outputId": "f5f74a76-e5ea-40d7-8b03-ec8bf74890b4"
      },
      "execution_count": null,
      "outputs": [
        {
          "output_type": "stream",
          "name": "stdout",
          "text": [
            "Введите первое число: 1\n",
            "Введите второе число: 5\n",
            "[1, 2, 3, 4, 5]\n",
            "5\n",
            "4\n",
            "3\n",
            "2\n",
            "1\n"
          ]
        }
      ]
    },
    {
      "cell_type": "markdown",
      "source": [
        "#№ 4.2.13\n",
        "\n",
        "Для введенных с клавиатуры положительных целых чисел a и b (a≤b) определите:\n",
        "\n",
        "• сумму всех целых чисел от a до b;\n",
        "\n",
        "• произведение всех целых чисел от a до b;\n",
        "\n",
        "• среднее арифметическое всех целых чисел от a до b;\n",
        "\n",
        "• среднее геометрическое нечетных чисел от a до b.\n",
        "\n",
        "Отрезок поиска включает сами числа a и b. При выводе вещественных результатов оставьте два знака после запятой."
      ],
      "metadata": {
        "id": "ASgrW3IviVef"
      }
    },
    {
      "cell_type": "code",
      "source": [
        "a = int(input('Введите первое число: '))\n",
        "b = int(input('Введите второе число: '))\n",
        "\n",
        "ls = list(range(a,b+1,1))\n",
        "n_sum = sum(ls)\n",
        "\n",
        "n_mult = 1\n",
        "a = 0\n",
        "while a<len(ls):\n",
        "    n_mult = n_mult*ls[a]\n",
        "    a += 1\n",
        "\n",
        "n_avg = n_sum/len(ls)\n",
        "\n",
        "print(\"Сумма = \", n_sum)\n",
        "print(\"Произведение = \", n_mult)\n",
        "print(\"Среднее арифметическое = \", n_avg)\n",
        "\n",
        "b = 0\n",
        "c = 0\n",
        "n_avg_geom = 1\n",
        "while b<len(ls):\n",
        "    if ls[b]%2==1:\n",
        "        n_avg_geom = n_avg_geom*ls[b]\n",
        "        b += 2\n",
        "        c += 1\n",
        "    else:\n",
        "        b += 1\n",
        "\n",
        "\n",
        "n_avg_geom = round((n_avg_geom**(1/c)),2)\n",
        "\n",
        "print(\"Среднее геометрическое нечетных чисел = \", n_avg_geom)\n",
        "\n",
        "# --------------\n",
        "# Пример вывода:\n",
        "#\n",
        "# a = 1\n",
        "# b = 5\n",
        "# Сумма = 15\n",
        "# Произведение = 120\n",
        "# Среднее арифметическое = 3.00\n",
        "# Среднее геометрическое нечетных чисел = 2.47"
      ],
      "metadata": {
        "colab": {
          "base_uri": "https://localhost:8080/"
        },
        "id": "YmRXjv6cicva",
        "outputId": "46103db6-049c-4796-c5f0-3e0aa58e0564"
      },
      "execution_count": null,
      "outputs": [
        {
          "output_type": "stream",
          "name": "stdout",
          "text": [
            "Введите первое число: 1\n",
            "Введите второе число: 5\n",
            "Сумма =  15\n",
            "Произведение =  120\n",
            "Среднее арифметическое =  3.0\n",
            "Среднее геометрическое нечетных чисел =  2.47\n"
          ]
        }
      ]
    },
    {
      "cell_type": "markdown",
      "source": [
        "#№ 4.2.14\n",
        "\n",
        "Начав тренировки, лыжник в первый день пробежал s км. (s>0, вещественное число). Каждый следующий день он увеличивал пробег на p % (0<p≤100, вещественное число) от пробега предыдущего дня. Определите:\n",
        "\n",
        "• пробег лыжника за второй, третий, …, десятый день тренировок;\n",
        "\n",
        "• какой суммарный путь он пробежал за первые 10 дней тренировок.\n",
        "\n",
        "При выводе вещественных результатов оставьте один знак после запятой."
      ],
      "metadata": {
        "id": "o6Kv15m0AYSQ"
      }
    },
    {
      "cell_type": "code",
      "source": [
        "s = float(input('Введите кол-во км в первый день: '))\n",
        "p = float(input('Введите процент увеличения нагрузки: '))\n",
        "\n",
        "tot = list() #Ввожу список\n",
        "tot.append(s) #Сразу включаю в список первую пробежку\n",
        "\n",
        "g = 0 #Ввожу пару переменных для удобства\n",
        "f = 1\n",
        "for x in range(9): #Делаю цикл на 10 действий\n",
        "    s = ((s*(p/100))+s)+0.0001\n",
        "    f += 1\n",
        "    tot.append(s)\n",
        "    print('Пробег за',f,'день: ', round(s,1), 'км.')\n",
        "\n",
        "total = sum(tot)\n",
        "print(\"Суммарный пробег: \", round(total,1))\n",
        "\n",
        "# --------------\n",
        "# Пример вывода:\n",
        "#\n",
        "# Пробег за 1-й день (км.) = 5\n",
        "# На сколько увеличивает пробег (%) = 10\n",
        "# Пробег за 2-й день: 5.5 км.\n",
        "# Пробег за 3-й день: 6.1 км.\n",
        "# Пробег за 4-й день: 6.7 км.\n",
        "# Пробег за 5-й день: 7.3 км.\n",
        "# Пробег за 6-й день: 8.1 км.\n",
        "# Пробег за 7-й день: 8.9 км.\n",
        "# Пробег за 8-й день: 9.7 км.\n",
        "# Пробег за 9-й день: 10.7 км.\n",
        "# Пробег за 10-й день: 11.8 км.\n",
        "# Суммарный пробег: 79.7 км."
      ],
      "metadata": {
        "colab": {
          "base_uri": "https://localhost:8080/"
        },
        "id": "emsq2K8EFmPC",
        "outputId": "47bb7c6c-dff1-4356-ed78-f2da1e123283"
      },
      "execution_count": null,
      "outputs": [
        {
          "output_type": "stream",
          "name": "stdout",
          "text": [
            "Введите кол-во км в первый день: 5\n",
            "Введите процент увеличения нагрузки: 10\n",
            "Пробег за 2 день:  5.5 км.\n",
            "Пробег за 3 день:  6.1 км.\n",
            "Пробег за 4 день:  6.7 км.\n",
            "Пробег за 5 день:  7.3 км.\n",
            "Пробег за 6 день:  8.1 км.\n",
            "Пробег за 7 день:  8.9 км.\n",
            "Пробег за 8 день:  9.7 км.\n",
            "Пробег за 9 день:  10.7 км.\n",
            "Пробег за 10 день:  11.8 км.\n",
            "Суммарный пробег:  79.7\n"
          ]
        }
      ]
    },
    {
      "cell_type": "markdown",
      "source": [
        "#№ 4.2.15\n",
        "\n",
        "Известна масса каждого предмета в кг., загружаемого в грузовик. Определить, возможна ли перевозка груза, если грузоподъемность грузовика равна p кг."
      ],
      "metadata": {
        "id": "8Xvw8tEdFrF4"
      }
    },
    {
      "cell_type": "code",
      "source": [
        "p = int(input('Введите грузоподъемность грузовика (кг.): '))\n",
        "n = int(input('Введите количество предметов (шт.): '))\n",
        "\n",
        "amount = list() #Ввожу список, чтобы суммировать его позже.\n",
        "for x in range(n):\n",
        "    f = int(input('Введите массу предмета (кг.): '))\n",
        "    amount.append(f)\n",
        "\n",
        "if sum(amount)>=p: #Ну и ввожу проверку данных через if-else\n",
        "    print('Нет.')\n",
        "else:\n",
        "    print('Да.')\n",
        "\n",
        "# --------------\n",
        "# Пример вывода:\n",
        "#\n",
        "# Грузоподъемность грузовика (кг.) = 10\n",
        "# Количество предметов = 2\n",
        "# Масса 1-го предмета (кг.) = 3\n",
        "# Масса 2-го предмета (кг.) = 3\n",
        "# Да\n"
      ],
      "metadata": {
        "colab": {
          "base_uri": "https://localhost:8080/"
        },
        "id": "i3ULp4SYFzmI",
        "outputId": "ad2a9e96-928c-4acd-fea8-6615f76e7af3"
      },
      "execution_count": null,
      "outputs": [
        {
          "output_type": "stream",
          "name": "stdout",
          "text": [
            "Введите грузоподъемность грузовика (кг.): 10\n",
            "Введите количество предметов (шт.): 2\n",
            "Введите массу предмета (кг.): 3\n",
            "Введите массу предмета (кг.): 3\n",
            "Да.\n"
          ]
        }
      ]
    },
    {
      "cell_type": "markdown",
      "source": [
        "#№ 4.2.16\n",
        "\n",
        "В области несколько районов. Заданы площади, засеваемые пшеницей (га.), и средняя урожайность (ц/га) в каждом районе.\n",
        "\n",
        "Определите количество пшеницы, собранное по области. При выводе вещественных результатов оставьте один знак после запятой."
      ],
      "metadata": {
        "id": "LHGALJsZIXOb"
      }
    },
    {
      "cell_type": "code",
      "source": [
        "n = int(input('Введите количество районов: '))\n",
        "\n",
        "total = list() #Ввожу список для подсчета суммы собранной пшеницы в конце.\n",
        "for x in range(n):\n",
        "    s = float(input('Введите площадь района (га): ')) #Ввожу пару вещественных чисел, как было написано в совете.\n",
        "    p = float(input('Введите урожайность в районе (ц/га.): ')) \n",
        "    g = p*s\n",
        "    total.append(g)\n",
        "\n",
        "print(round(sum(total), 1))\n",
        "\n",
        "# --------------\n",
        "# Пример вывода:\n",
        "#\n",
        "# Количество районов = 3\n",
        "# Площадь 1-го района (га) = 4\n",
        "# Урожайность в 1-м районе (ц/га.) = 2\n",
        "# Площадь 2-го района (га) = 7\n",
        "# Урожайность в 2-м районе (ц/га.) = 3\n",
        "# Площадь 3-го района (га) = 9\n",
        "# Урожайность в 3-м районе (ц/га.) = 4\n",
        "# Собрано пшеницы: 65.0 ц."
      ],
      "metadata": {
        "id": "9QVscqLmId54"
      },
      "execution_count": null,
      "outputs": []
    },
    {
      "cell_type": "markdown",
      "source": [
        "#№ 4.2.17\n",
        "\n",
        "Решите задачу № 4.2.7, организовав бесконечный цикл, который бы прерывался при выполнении условия, используя оператор break.\n",
        "\n",
        "\n",
        "№ 4.2.7\n",
        "\n",
        "Дана непустая последовательность целых чисел, оканчивающаяся нулем. Найти сумму и количество введенных чисел."
      ],
      "metadata": {
        "id": "agyRiyVoNf3t"
      }
    },
    {
      "cell_type": "code",
      "source": [
        "nums_sum = 0  #сумма\n",
        "nums_count = 0  #кол-во\n",
        "\n",
        "x = int(input('Введите число. '))\n",
        "a = list()\n",
        "\n",
        "while x!=0:\n",
        "    nums_count = nums_count+1\n",
        "    a.append(x)\n",
        "    nums_sum = nums_sum+x\n",
        "    x = int(input('Введите новое число. '))\n",
        "    if x==0:\n",
        "        break\n",
        "\n",
        "print('Сумма = ', nums_sum)\n",
        "print('Количество = ',nums_count)\n",
        "\n",
        "# --------------\n",
        "# Пример вывода:\n",
        "#\n",
        "# Введите 1-е число: 1\n",
        "# Введите 2-е число: 2\n",
        "# Введите 3-е число: 3\n",
        "# Введите 4-е число: 4\n",
        "# Введите 5-е число: 0\n",
        "# Сумма = 10\n",
        "# Количество = 4\n",
        "#\n",
        "# Введите 1-е число: 0\n",
        "# Сумма = 0\n",
        "# Количество = 0"
      ],
      "metadata": {
        "colab": {
          "base_uri": "https://localhost:8080/"
        },
        "id": "c8RpYY0iNr0q",
        "outputId": "77b339c9-4aed-4b5a-eb7e-1c753e63119d"
      },
      "execution_count": null,
      "outputs": [
        {
          "output_type": "stream",
          "name": "stdout",
          "text": [
            "Введите число. 1\n",
            "Введите новое число. 2\n",
            "Введите новое число. 3\n",
            "Введите новое число. 4\n",
            "Введите новое число. 0\n",
            "Сумма =  10\n",
            "Количество =  4\n"
          ]
        }
      ]
    },
    {
      "cell_type": "markdown",
      "source": [
        "#№ 4.2.18\n",
        "\n",
        "Предложение, введенное с клавиатуры, содержит слова из гласных и согласных букв кириллицы (регистр может быть различный), а также пробелы.\n",
        "\n",
        "Определите количество гласных и согласных букв в предложении. Для пропуска пробелов используйте оператор continue."
      ],
      "metadata": {
        "id": "OndHPlk9P7oP"
      }
    },
    {
      "cell_type": "code",
      "source": [
        "sentence = input('Введите предложение: ')\n",
        "\n",
        "gl = 0  # Кол-во гласных\n",
        "sogl = 0  # Кол-во согласных\n",
        "probel = 0\n",
        "\n",
        "for x in sentence: # Ввожу доп.условие на гласные в основном условии и согласные в else\n",
        "    sth = x.lower()\n",
        "    if sth == \"а\" or sth == \"я\" or sth == \"у\" or\\\n",
        "      sth == \"ю\" or sth == \"о\" or sth == \"е\" or\\\n",
        "      sth == \"ё\" or sth == \"э\" or sth == \"и\" or\\\n",
        "      sth == \"ы\":\n",
        "      gl += 1\n",
        "    elif sth == \" \":\n",
        "      probel += 1\n",
        "    else:\n",
        "      sogl += 1\n",
        "\n",
        "s1 = \"Гласных\"\n",
        "s2 = \"Согласных\"\n",
        "print('Кол-во букв в предложении: ', \"{} {}, {} {}\".format(s1, gl, s2, sogl))\n",
        "\n",
        "# --------------\n",
        "# Пример вывода:\n",
        "#\n",
        "# Введите предложение: Программирование\n",
        "# Кол-во букв в предложении: гласных - 7, согласных - 9"
      ],
      "metadata": {
        "colab": {
          "base_uri": "https://localhost:8080/"
        },
        "id": "uT46_cQXP_9i",
        "outputId": "e62c6259-a12a-44b7-b7da-6fe14aaea2bf"
      },
      "execution_count": null,
      "outputs": [
        {
          "output_type": "stream",
          "name": "stdout",
          "text": [
            "Введите предложение: Программирование \n",
            "Кол-во букв в предложении:  Гласных 7, Согласных 9\n"
          ]
        }
      ]
    },
    {
      "cell_type": "markdown",
      "source": [
        "#№ 4.2.19\n",
        "\n",
        "Выведите на экран (в строку) все целые числа от a до b, кратные некоторому числу c."
      ],
      "metadata": {
        "id": "BGc8-tn4UIpz"
      }
    },
    {
      "cell_type": "code",
      "source": [
        "a = int(input(\"Введите первое число: \"))\n",
        "b = int(input(\"Введите второе число: \"))\n",
        "c = int(input(\"Введите третье число: \"))\n",
        "\n",
        "g = list()\n",
        "\n",
        "for y in range(a,b+1):\n",
        "    if y%c==0:\n",
        "        g.append(y)\n",
        "\n",
        "print(g)\n",
        "\n",
        "\n",
        "# --------------\n",
        "# Пример вывода:\n",
        "#\n",
        "# a = 1\n",
        "# b = 10\n",
        "# c = 2\n",
        "# 2 4 6 8 10"
      ],
      "metadata": {
        "id": "_Sfi4aSOURkb",
        "colab": {
          "base_uri": "https://localhost:8080/"
        },
        "outputId": "f16f1704-563a-4d88-9f4a-473051968364"
      },
      "execution_count": null,
      "outputs": [
        {
          "output_type": "stream",
          "name": "stdout",
          "text": [
            "Введите первое число: 1\n",
            "Введите второе число: 10\n",
            "Введите третье число: 2\n",
            "[2, 4, 6, 8, 10]\n"
          ]
        }
      ]
    },
    {
      "cell_type": "markdown",
      "source": [
        "#№ 4.2.20\n",
        "\n",
        "Выведите на экран (в строку) все трехзначные натуральные числа, сумма цифр которых равна целому числу n (0<n≤27)."
      ],
      "metadata": {
        "id": "E3I8rpcTVhOh"
      }
    },
    {
      "cell_type": "code",
      "source": [
        "n = int(input('Введите число: '))\n",
        "\n",
        "g = list()\n",
        "\n",
        "for x in range(100, 1000): #Проверка 3-значных чисел от 100 до 999 включительно\n",
        "    a = sum(int(e) for e in str(x))\n",
        "    if a==n:\n",
        "        g.append(x)\n",
        "\n",
        "print(g)\n",
        "\n",
        "# --------------\n",
        "# Пример вывода:\n",
        "#\n",
        "# n = 3\n",
        "# 102 111 120 201 210 300"
      ],
      "metadata": {
        "colab": {
          "base_uri": "https://localhost:8080/"
        },
        "id": "lpBSt_j2Vj0j",
        "outputId": "675d109f-0e90-4468-8e29-e449243f3aae"
      },
      "execution_count": null,
      "outputs": [
        {
          "output_type": "stream",
          "name": "stdout",
          "text": [
            "Введите число: 3\n",
            "[102, 111, 120, 201, 210, 300]\n"
          ]
        }
      ]
    },
    {
      "cell_type": "markdown",
      "source": [
        "#№ 4.2.21\n",
        "\n",
        "Известно количество учеников в классе и их рост (см.); рост мальчиков условно задан отрицательными числами. Определите средний рост мальчиков и средний рост девочек.\n",
        "\n",
        "При выводе вещественных результатов оставьте один знак после запятой."
      ],
      "metadata": {
        "id": "u7IZ3AgPWddE"
      }
    },
    {
      "cell_type": "code",
      "source": [
        "n = int(input('Введите количество учеников: '))\n",
        "\n",
        "a = 0\n",
        "b = 0\n",
        "c = 0\n",
        "f = 1\n",
        "\n",
        "for x in range(n):\n",
        "    rost = int(input('Введите значение роста ученика: '))\n",
        "    f += 1\n",
        "    if rost<0:\n",
        "        a += 1\n",
        "        b -= rost\n",
        "    else:\n",
        "        c += rost\n",
        "\n",
        "r_sr_m = b / a\n",
        "r_sr_d = c / (n - a)\n",
        "\n",
        "print(\"Средний рост мальчиков: {:.1f}\".format(r_sr_m))\n",
        "print(\"Средний рост девочек: {:.1f}\".format(r_sr_d))\n",
        "\n",
        "# --------------\n",
        "# Пример вывода:\n",
        "#\n",
        "# n = 5\n",
        "# Рост 1-го ученика = 150\n",
        "# Рост 2-го ученика = -150\n",
        "# Рост 3-го ученика = 160\n",
        "# Рост 4-го ученика = 170\n",
        "# Рост 5-го ученика = 180\n",
        "# Средний рост мальчиков: 150.0\n",
        "# Средний рост девочек: 165.0"
      ],
      "metadata": {
        "id": "OU42eVd6Zdqn"
      },
      "execution_count": null,
      "outputs": []
    },
    {
      "cell_type": "markdown",
      "source": [
        "#№ 4.2.22\n",
        "\n",
        "Даны n вещественных чисел. Определите максимальное и минимальное из них.\n",
        "\n",
        "При выводе вещественных результатов оставьте два знака после запято"
      ],
      "metadata": {
        "id": "ixW-xxnCq81a"
      }
    },
    {
      "cell_type": "code",
      "source": [
        "#Работаю в программе PyCharm-Edu.\n",
        "#В программе все прекрасно работает.\n",
        "#В коллабе по какой-то причине гугл ругается на 13 и 14 строчку.\n",
        "#Но опять же, код рабочий.\n",
        "\n",
        "n = int(input('Введите значение целого числа: '))\n",
        "\n",
        "g = list()\n",
        "\n",
        "for x in range(n):\n",
        "    a = float(input('Введите значение вещественного числа: '))\n",
        "    g.append(a)\n",
        "\n",
        "f = max(g)\n",
        "k = min(g)\n",
        "\n",
        "print(\"Максимум: {:.2f}\".format(f))\n",
        "print(\"Минимум: {:.2f}\".format(k))\n",
        "\n",
        "# --------------\n",
        "# Пример вывода:\n",
        "#\n",
        "# n = 4\n",
        "# 1-е число = 6.2\n",
        "# 2-е число = 3.8\n",
        "# 3-е число = 1.1\n",
        "# 4-е число = 9.66\n",
        "# Максимум: 9.66\n",
        "# Минимум: 1.10"
      ],
      "metadata": {
        "colab": {
          "base_uri": "https://localhost:8080/"
        },
        "id": "-eBUiVfgrLhT",
        "outputId": "423b85bf-75a7-4bd7-8625-04516a31592c"
      },
      "execution_count": null,
      "outputs": [
        {
          "output_type": "stream",
          "name": "stdout",
          "text": [
            "n=4\n",
            "99\n",
            "1-е число = 6.2\n",
            "2-е число = 3.8\n",
            "3-е число = 1.1\n",
            "4-е число = 9.66\n",
            "Максимум: 9.66\n",
            "Минимум: 1.10\n"
          ]
        }
      ]
    },
    {
      "cell_type": "markdown",
      "source": [
        "#№ 4.2.23\n",
        "\n",
        "Дано натуральное число n. Определите, является ли оно членом последовательности Фибоначчи."
      ],
      "metadata": {
        "id": "n8TzONx3rWB2"
      }
    },
    {
      "cell_type": "code",
      "source": [
        "n = int(input('Введите значение предполагаемого числа: '))\n",
        "\n",
        "f1 = 1\n",
        "f2 = 1\n",
        "k = 1\n",
        "\n",
        "while n!=f1:\n",
        "    if n<f1:\n",
        "        print('Не является.')\n",
        "        break\n",
        "    else:\n",
        "        k = f1\n",
        "        f1 += f2\n",
        "        f2 = k\n",
        "else:\n",
        "    print('Является.')\n",
        "\n",
        "# --------------\n",
        "# Пример вывода:\n",
        "#\n",
        "# n = 7\n",
        "# Не является\n",
        "#\n",
        "# n = 8\n",
        "# Является"
      ],
      "metadata": {
        "id": "oRBKVtlUrg7i"
      },
      "execution_count": null,
      "outputs": []
    },
    {
      "cell_type": "markdown",
      "source": [
        "#№ 4.2.24\n",
        "\n",
        "Дано n вещественных чисел. Определите, является ли последовательность упорядоченной по возрастанию. В случае отрицательного ответа выведите порядковый номер числа, нарушающего такую упорядоченность."
      ],
      "metadata": {
        "id": "N-VV2MjKybh2"
      }
    },
    {
      "cell_type": "code",
      "source": [
        "n = int(input('Введите количество чисел: '))\n",
        "g = []\n",
        "\n",
        "for x in range(1, n+1):\n",
        "  a = float(input(f'{x}-е число = '))\n",
        "  g.append(a)\n",
        "\n",
        "f = bool()\n",
        "for x in range(1,n):\n",
        "  if g[x-1] >=g[x]:\n",
        "    f = False\n",
        "    break\n",
        "  else:\n",
        "    f = True\n",
        "if f == True:\n",
        "  print('Является')\n",
        "else:\n",
        "  print(x)\n",
        "\n",
        "# --------------\n",
        "# Пример вывода:\n",
        "#\n",
        "# n = 4\n",
        "# 1-е число = 2\n",
        "# 2-е число = 4.6\n",
        "# 3-е число = 6\n",
        "# 4-е число = 8.3\n",
        "# Является\n",
        "#\n",
        "# n = 3\n",
        "# 1-е число = 3\n",
        "# 2-е число = 3\n",
        "# 2"
      ],
      "metadata": {
        "colab": {
          "base_uri": "https://localhost:8080/"
        },
        "id": "R62LVqB-OZwp",
        "outputId": "a18b4cfe-7552-4534-e205-cc5ee0c4cfae"
      },
      "execution_count": 5,
      "outputs": [
        {
          "output_type": "stream",
          "name": "stdout",
          "text": [
            "Введите количество чисел: 4\n",
            "1-е число = 2\n",
            "2-е число = 4.6\n",
            "3-е число = 6\n",
            "4-е число = 8.3\n",
            "Является\n"
          ]
        }
      ]
    },
    {
      "cell_type": "markdown",
      "source": [
        "#№ 4.2.25\n",
        "\n",
        "Выведите на экран таблицу умножения на n (2<n≤9) в виде:"
      ],
      "metadata": {
        "id": "cRH5ufjpg6JT"
      }
    },
    {
      "cell_type": "code",
      "source": [
        "n = int(input('Введите целое число: '))\n",
        "\n",
        "for x in range(1, n+1):\n",
        "    for y in range(1, n+1):\n",
        "        print(f'{x} * {y} = {x * y}\\t', end=' ')\n",
        "    print('')\n",
        "# --------------\n",
        "# Пример вывода:\n",
        "#\n",
        "# n = 5\n",
        "# 1 * 1 =  1  1 * 2 =  2  1 * 3 =  3  1 * 4 =  4  1 * 5 =  5\n",
        "# 2 * 1 =  2  2 * 2 =  4  2 * 3 =  6  2 * 4 =  8  2 * 5 = 10\n",
        "# 3 * 1 =  3  3 * 2 =  6  3 * 3 =  9  3 * 4 = 12  3 * 5 = 15\n",
        "# 4 * 1 =  4  4 * 2 =  8  4 * 3 = 12  4 * 4 = 16  4 * 5 = 20\n",
        "# 5 * 1 =  5  5 * 2 = 10  5 * 3 = 15  5 * 4 = 20  5 * 5 = 25"
      ],
      "metadata": {
        "id": "QB8F0r-6hIzZ",
        "colab": {
          "base_uri": "https://localhost:8080/"
        },
        "outputId": "0890095a-15cc-4f84-d8c6-1472bcfc6fd3"
      },
      "execution_count": null,
      "outputs": [
        {
          "output_type": "stream",
          "name": "stdout",
          "text": [
            "Введите целое число: 5\n",
            "1 * 1 = 1\t 1 * 2 = 2\t 1 * 3 = 3\t 1 * 4 = 4\t 1 * 5 = 5\t \n",
            "2 * 1 = 2\t 2 * 2 = 4\t 2 * 3 = 6\t 2 * 4 = 8\t 2 * 5 = 10\t \n",
            "3 * 1 = 3\t 3 * 2 = 6\t 3 * 3 = 9\t 3 * 4 = 12\t 3 * 5 = 15\t \n",
            "4 * 1 = 4\t 4 * 2 = 8\t 4 * 3 = 12\t 4 * 4 = 16\t 4 * 5 = 20\t \n",
            "5 * 1 = 5\t 5 * 2 = 10\t 5 * 3 = 15\t 5 * 4 = 20\t 5 * 5 = 25\t \n"
          ]
        }
      ]
    },
    {
      "cell_type": "markdown",
      "source": [
        "#№ 4.2.26\n",
        "\n",
        "Выведите графическое изображения делимости чисел от 1 до n (значение n вводится с клавиатуры) - в каждой строке напечатайте очередное число и столько символов *, сколько делителей у этого числа.\n",
        "\n",
        "Например, если n=4, на экране должно быть напечатано:\n",
        "\n",
        "1 *\n",
        "\n",
        "2 **\n",
        "\n",
        "3 **\n",
        "\n",
        "4 ***"
      ],
      "metadata": {
        "id": "NYfKEpL8im4i"
      }
    },
    {
      "cell_type": "code",
      "source": [
        "n = int(input('Введите число: '))\n",
        "\n",
        "for f in range(2,n+1):\n",
        "    a = 2\n",
        "    g = 2\n",
        "    while (g*g<=f):\n",
        "        if f%g==0:\n",
        "            a += 1\n",
        "            b = f//g\n",
        "            if b != g:\n",
        "                a += 1\n",
        "        g += 1\n",
        "        \n",
        "    print(f,a*\"*\")\n",
        "\n",
        "\n",
        "# --------------\n",
        "# Пример вывода:\n",
        "#\n",
        "# n = 10\n",
        "# 1 *\n",
        "# 2 **\n",
        "# 3 **\n",
        "# 4 ***\n",
        "# 5 **\n",
        "# 6 ****\n",
        "# 7 **\n",
        "# 8 ****\n",
        "# 9 ***\n",
        "# 10 ****"
      ],
      "metadata": {
        "id": "xxx9-mbbjBg2",
        "colab": {
          "base_uri": "https://localhost:8080/"
        },
        "outputId": "f18757b7-e9c7-43aa-d1cb-b8275b511540"
      },
      "execution_count": null,
      "outputs": [
        {
          "output_type": "stream",
          "name": "stdout",
          "text": [
            "Введите число: 10\n",
            "2 **\n",
            "3 **\n",
            "4 ***\n",
            "5 **\n",
            "6 ****\n",
            "7 **\n",
            "8 ****\n",
            "9 ***\n",
            "10 ****\n"
          ]
        }
      ]
    },
    {
      "cell_type": "markdown",
      "source": [
        "#№ 4.2.27\n",
        "\n",
        "Выведите на экран (в строку) n первых простых чисел."
      ],
      "metadata": {
        "id": "RaSFusyPjCiE"
      }
    },
    {
      "cell_type": "code",
      "source": [
        "n = int(input('Введите целое число: '))*3\n",
        "a = 1\n",
        "g = list()\n",
        "\n",
        "for x in range(1, n+1):\n",
        "    c = 0\n",
        "    for y in range(1, a+1):\n",
        "        b = a % y\n",
        "        if b == 0:\n",
        "            c = c + 1\n",
        "    if c == 2:\n",
        "        g.append(a)\n",
        "    else:\n",
        "        x = x - 1\n",
        "    a = a + 1\n",
        "\n",
        "print(g[:n])\n",
        "\n",
        "# --------------\n",
        "# Пример вывода:\n",
        "#\n",
        "# n = 10\n",
        "# 2 3 5 7 11 13 17 19 23 29"
      ],
      "metadata": {
        "id": "JUfxqZ89jKAe",
        "colab": {
          "base_uri": "https://localhost:8080/"
        },
        "outputId": "4704fd25-5ea1-4b13-d853-f8e99abf3fe5"
      },
      "execution_count": null,
      "outputs": [
        {
          "output_type": "stream",
          "name": "stdout",
          "text": [
            "Введите целое число: 10\n",
            "[2, 3, 5, 7, 11, 13, 17, 19, 23, 29]\n"
          ]
        }
      ]
    },
    {
      "cell_type": "markdown",
      "source": [
        "#№ 4.2.28\n",
        "\n",
        "Составьте программу для нахождения всех натуральных решений уравнения x^2+y^2+z^2=k^2, где x,y,z∈[1,30], а k вводится с клавиатуры."
      ],
      "metadata": {
        "id": "-LPavSKmjKW2"
      }
    },
    {
      "cell_type": "code",
      "source": [
        "k = int(input('Введите целое число: '))\n",
        "\n",
        "for x in range(1, 31):\n",
        "    for y in range(1, 31):\n",
        "        for z in range(1, 31):\n",
        "            if x*x+y*y+z*z==k*k:\n",
        "                print(f'x = {x}, y = {y}, z = {z}')\n",
        "\n",
        "# --------------\n",
        "# Пример вывода:\n",
        "#\n",
        "# k = 30\n",
        "# x =  4, y = 10, z = 28\n",
        "# x =  4, y = 20, z = 22\n",
        "# x =  4, y = 22, z = 20\n",
        "# x =  4, y = 28, z = 10\n",
        "# x = 10, y =  4, z = 28\n",
        "# x = 10, y = 20, z = 20\n",
        "# x = 10, y = 28, z =  4\n",
        "# x = 20, y =  4, z = 22\n",
        "# x = 20, y = 10, z = 20\n",
        "# x = 20, y = 20, z = 10\n",
        "# x = 20, y = 22, z =  4\n",
        "# x = 22, y =  4, z = 20\n",
        "# x = 22, y = 20, z =  4\n",
        "# x = 28, y =  4, z = 10\n",
        "# x = 28, y = 10, z =  4"
      ],
      "metadata": {
        "id": "UWV8_lbhjWeG",
        "colab": {
          "base_uri": "https://localhost:8080/"
        },
        "outputId": "3c3faeb9-665e-443b-855f-a07e360af88a"
      },
      "execution_count": null,
      "outputs": [
        {
          "output_type": "stream",
          "name": "stdout",
          "text": [
            "Введите целое число: 30\n",
            "x = 4, y = 10, z = 28\n",
            "x = 4, y = 20, z = 22\n",
            "x = 4, y = 22, z = 20\n",
            "x = 4, y = 28, z = 10\n",
            "x = 10, y = 4, z = 28\n",
            "x = 10, y = 20, z = 20\n",
            "x = 10, y = 28, z = 4\n",
            "x = 20, y = 4, z = 22\n",
            "x = 20, y = 10, z = 20\n",
            "x = 20, y = 20, z = 10\n",
            "x = 20, y = 22, z = 4\n",
            "x = 22, y = 4, z = 20\n",
            "x = 22, y = 20, z = 4\n",
            "x = 28, y = 4, z = 10\n",
            "x = 28, y = 10, z = 4\n"
          ]
        }
      ]
    }
  ]
}