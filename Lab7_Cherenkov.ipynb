{
  "nbformat": 4,
  "nbformat_minor": 0,
  "metadata": {
    "colab": {
      "provenance": [],
      "authorship_tag": "ABX9TyMr4l850FY3KbO7JYF5GdGx",
      "include_colab_link": true
    },
    "kernelspec": {
      "name": "python3",
      "display_name": "Python 3"
    },
    "language_info": {
      "name": "python"
    }
  },
  "cells": [
    {
      "cell_type": "markdown",
      "metadata": {
        "id": "view-in-github",
        "colab_type": "text"
      },
      "source": [
        "<a href=\"https://colab.research.google.com/github/Iv0cheer/IvCherenkov_Lab/blob/main/Lab7_Cherenkov.ipynb\" target=\"_parent\"><img src=\"https://colab.research.google.com/assets/colab-badge.svg\" alt=\"Open In Colab\"/></a>"
      ]
    },
    {
      "cell_type": "markdown",
      "source": [
        "# Программирование на языке высокого уровня (Python).\n",
        "# https://www.yuripetrov.ru/edu/python\n",
        "\n",
        "# Выполнил: Черенков И.Р.\n",
        "# Группа: АДЭУ-221\n",
        "# E-mail: iv0.cheer@gmail.com\n"
      ],
      "metadata": {
        "id": "xl0kfBtgLmfU"
      }
    },
    {
      "cell_type": "markdown",
      "source": [
        "#№ 7.2.1"
      ],
      "metadata": {
        "id": "uCekrEF5QAVh"
      }
    },
    {
      "cell_type": "code",
      "execution_count": null,
      "metadata": {
        "id": "Xzc5qGQyZi88"
      },
      "outputs": [],
      "source": [
        "\"\"\"\n",
        "Ошибки (номера строк через пробел, данная строка - №2): 2 6 8 10\n",
        "\"\"\"\n",
        "\n",
        "  \n",
        "def sum_of_digits(n):\n",
        "    \"\"\"\n",
        "    Returns sum of digits less than 5 of positive number \"n\". If all digits are more than 5, returns 0.\n",
        "    Also, if number won't be positive, return it to positive and return sum of it's digits.\n",
        "\n",
        "    n - integer positive number\n",
        "    \"\"\"\n",
        "    c = 0\n",
        "    while n > 0:\n",
        "      digit = n % 10\n",
        "      if digit < 5:\n",
        "        c = c + digit\n",
        "      n //= 10\n",
        "    return c"
      ]
    },
    {
      "cell_type": "code",
      "source": [
        "try:\n",
        "    a = int(input('Input positive number: '))\n",
        "except ValueError:\n",
        "    print('Entered value is not integer.')\n",
        "    a = 0\n",
        "\n",
        "if a > 0:\n",
        "    try:\n",
        "        print(sum_of_digits(a))\n",
        "    except TypeError:\n",
        "        print(f'ERROR: {TypeError}:','\\n','Entered number is not an integer')\n",
        "    finally:\n",
        "        print('')\n",
        "        print('Process completed')\n",
        "else:\n",
        "    print('Process stopped. User entered invalid number.')"
      ],
      "metadata": {
        "colab": {
          "base_uri": "https://localhost:8080/"
        },
        "id": "OGfEmwHxbGUi",
        "outputId": "64e9d417-5105-4417-8144-1828de2f0b2b"
      },
      "execution_count": null,
      "outputs": [
        {
          "output_type": "stream",
          "name": "stdout",
          "text": [
            "Input positive number: 2.5\n",
            "Entered value is not integer.\n",
            "Process stopped. User entered invalid number.\n"
          ]
        }
      ]
    },
    {
      "cell_type": "code",
      "source": [
        "help(sum_of_digits)"
      ],
      "metadata": {
        "colab": {
          "base_uri": "https://localhost:8080/"
        },
        "id": "LndqipUTcGiZ",
        "outputId": "33c8d937-a96c-4dbf-d0e9-e606016e034c"
      },
      "execution_count": null,
      "outputs": [
        {
          "output_type": "stream",
          "name": "stdout",
          "text": [
            "Help on function sum_of_digits in module __main__:\n",
            "\n",
            "sum_of_digits(n)\n",
            "    Returns sum of digits less than 5 of positive number \"n\". If all digits are more than 5, returns 0.\n",
            "    Also, if number won't be positive, return it to positive and return sum of it's digits.\n",
            "    \n",
            "    n - integer positive number\n",
            "\n"
          ]
        }
      ]
    },
    {
      "cell_type": "markdown",
      "source": [
        "#№ 7.2.2"
      ],
      "metadata": {
        "id": "K6c6rTuBQhqd"
      }
    },
    {
      "cell_type": "code",
      "source": [
        "\"\"\"\n",
        "Ошибки (номера строк через пробел, данная строка - №2): 10 11 14\n",
        "\"\"\"\n",
        "\n",
        "\n",
        "def primes(a, b):\n",
        "    \"\"\"\n",
        "    Returns list of prime numbers in range a to b.\n",
        "\n",
        "    a - starting integer number\n",
        "    b - final integer number\n",
        "    \"\"\"\n",
        "    res = []\n",
        "    c = 0\n",
        "    for i in range(a, b+1): # Includes 'b' (in range) \"+1\"\n",
        "        for j in range(i+1): # Includes 'i' (in range) \"+1\"\n",
        "            if i % (j+1) == 0:\n",
        "                c += 1\n",
        "        if c == 2: # Incorrect path\n",
        "            res.append(i)\n",
        "            c = 0\n",
        "        else:\n",
        "            c = 0\n",
        "\n",
        "    return res"
      ],
      "metadata": {
        "id": "W8nNLYq1QrLG"
      },
      "execution_count": null,
      "outputs": []
    },
    {
      "cell_type": "code",
      "source": [
        "try:\n",
        "    print(primes(25,100))\n",
        "except TypeError:\n",
        "    print(f'ERROR: {TypeError}:','\\n','Entered number is not an integer')\n",
        "finally:\n",
        "    print('')\n",
        "    print('Process completed')"
      ],
      "metadata": {
        "colab": {
          "base_uri": "https://localhost:8080/"
        },
        "id": "vi62LueNdHDb",
        "outputId": "562c52bd-74c5-4bd6-d17c-7a5ccfcea9fa"
      },
      "execution_count": null,
      "outputs": [
        {
          "output_type": "stream",
          "name": "stdout",
          "text": [
            "[29, 31, 37, 41, 43, 47, 53, 59, 61, 67, 71, 73, 79, 83, 89, 97]\n",
            "\n",
            "Process completed\n"
          ]
        }
      ]
    },
    {
      "cell_type": "code",
      "source": [
        "help(primes)"
      ],
      "metadata": {
        "colab": {
          "base_uri": "https://localhost:8080/"
        },
        "id": "yN2DUHNUeR2A",
        "outputId": "d4f37f86-ceac-43b1-ddb7-0e84e7da251a"
      },
      "execution_count": null,
      "outputs": [
        {
          "output_type": "stream",
          "name": "stdout",
          "text": [
            "Help on function primes in module __main__:\n",
            "\n",
            "primes(a, b)\n",
            "    Returns list of prime numbers in range a to b.\n",
            "    \n",
            "    a - starting integer number\n",
            "    b - final integer number\n",
            "\n"
          ]
        }
      ]
    },
    {
      "cell_type": "markdown",
      "source": [
        "#№ 7.2.3"
      ],
      "metadata": {
        "id": "sN_0-rkS_27U"
      }
    },
    {
      "cell_type": "code",
      "source": [
        "\"\"\"\n",
        "Ошибки (номера строк через пробел, данная строка - №2): 21 22\n",
        "\"\"\"\n",
        "\n",
        "\n",
        "def first_vacant_row(seats):\n",
        "    \"\"\"Return the first row with the most empty seats and their number.\n",
        "    Return numbering of rows starting from 1. If there are no empty seats, return 0, 0.\n",
        "\n",
        "    Options:\n",
        "        - seats (list of list): information about sold tickets\n",
        "                                (1 - sold, 0 - empty).\n",
        "\n",
        "    Result:\n",
        "        - tuple (row, number of seats).\n",
        "    \"\"\"\n",
        "    max_count = 0\n",
        "    max_row = 0\n",
        "    for row_index, row in enumerate(seats):\n",
        "        available_seats_count = row.count(0)  # 0 - empty\n",
        "        if available_seats_count >= max_count: # \"=\" is extra\n",
        "            max_row = row_index + 1 # Added \"+1\"\n",
        "            max_count = available_seats_count\n",
        "\n",
        "    return max_row, max_count"
      ],
      "metadata": {
        "id": "0DaZvCu-AIsw"
      },
      "execution_count": null,
      "outputs": []
    },
    {
      "cell_type": "code",
      "source": [
        "import random\n",
        "\n",
        "random.seed(50)\n",
        "\n",
        "ROWS_MAX = 10\n",
        "SEATS_MAX = 5\n",
        "\n",
        "seats = [[random.randint(0, 1) for seat in range(SEATS_MAX)]\n",
        "                                for row in range(ROWS_MAX)]\n",
        "\n",
        "for seat in seats:\n",
        "    print(seat)\n",
        "\n",
        "print(first_vacant_row(seats))"
      ],
      "metadata": {
        "colab": {
          "base_uri": "https://localhost:8080/"
        },
        "id": "Y_qJKzKSnKBf",
        "outputId": "18451deb-ad67-4a43-bb16-0da0fedf936b"
      },
      "execution_count": null,
      "outputs": [
        {
          "output_type": "stream",
          "name": "stdout",
          "text": [
            "[1, 1, 1, 0, 1]\n",
            "[1, 0, 1, 0, 0]\n",
            "[0, 1, 0, 1, 1]\n",
            "[0, 0, 0, 1, 1]\n",
            "[0, 0, 1, 1, 0]\n",
            "[0, 1, 1, 1, 0]\n",
            "[0, 1, 1, 1, 0]\n",
            "[1, 0, 0, 1, 0]\n",
            "[1, 1, 0, 1, 1]\n",
            "[0, 1, 0, 0, 1]\n",
            "(10, 3)\n"
          ]
        }
      ]
    },
    {
      "cell_type": "code",
      "source": [
        "help(first_vacant_row)"
      ],
      "metadata": {
        "colab": {
          "base_uri": "https://localhost:8080/"
        },
        "id": "V7BQGjCPnBCU",
        "outputId": "8830537c-87a5-4b69-c95d-da6b187d906f"
      },
      "execution_count": null,
      "outputs": [
        {
          "output_type": "stream",
          "name": "stdout",
          "text": [
            "Help on function first_vacant_row in module __main__:\n",
            "\n",
            "first_vacant_row(seats)\n",
            "    Return the first row with the most empty seats and their number.\n",
            "    Return numbering of rows starting from 1. If there are no empty seats, return 0, 0.\n",
            "    \n",
            "    Options:\n",
            "        - seats (list of list): information about sold tickets\n",
            "                                (1 - sold, 0 - empty).\n",
            "    \n",
            "    Result:\n",
            "        - tuple (row, number of seats).\n",
            "\n"
          ]
        }
      ]
    },
    {
      "cell_type": "markdown",
      "source": [
        "# № 7.2.4"
      ],
      "metadata": {
        "id": "NxGJFzR10UC3"
      }
    },
    {
      "cell_type": "code",
      "source": [
        "\"\"\"\n",
        "Ошибки (номера строк через пробел, данная строка - №2): 8\n",
        "\"\"\"\n",
        "\n",
        "\n",
        "def min_pair(nums):\n",
        "    \"\"\"\n",
        "    Return the minimum sum of neighboring 2 numbers in the list 'nums'.\n",
        "\n",
        "    Options:\n",
        "      nums - list of numbers\n",
        "    \"\"\"\n",
        "    min1 = nums[0] * nums[1] # '*' instead of '+'; incorrect name of the variable 'min' - 'min1' instead of 'min'.\n",
        "    for i in range(1, len(nums) - 1): # '1' instead of '2'; 'len(nums) - 1'\n",
        "        min1 = min(nums[i] + nums[i + 1], min1) # incorrect name of the variable 'min' - 'min1' instead of 'min'.\n",
        "\n",
        "    return min1"
      ],
      "metadata": {
        "id": "CnQs8Aht0Wwi"
      },
      "execution_count": null,
      "outputs": []
    },
    {
      "cell_type": "code",
      "source": [
        "import random\n",
        "\n",
        "random.seed(50)\n",
        "\n",
        "N_MAX = 10\n",
        "RANGE_MIN = 1\n",
        "RANGE_MAX = 100\n",
        "nums = random.sample(range(RANGE_MIN, RANGE_MAX), N_MAX)\n",
        "\n",
        "print(nums)\n",
        "\n",
        "try:\n",
        "    print(min_pair(nums))\n",
        "except IndexError:\n",
        "    print('Not enough data')"
      ],
      "metadata": {
        "id": "X1hAKCBd5nYr",
        "colab": {
          "base_uri": "https://localhost:8080/"
        },
        "outputId": "6b81651a-7875-4253-8550-731ee1cb430e"
      },
      "execution_count": null,
      "outputs": [
        {
          "output_type": "stream",
          "name": "stdout",
          "text": [
            "[64, 35, 47, 82, 32, 89, 61, 99, 43, 11]\n",
            "54\n"
          ]
        }
      ]
    },
    {
      "cell_type": "code",
      "source": [
        "help(min_pair)"
      ],
      "metadata": {
        "colab": {
          "base_uri": "https://localhost:8080/"
        },
        "id": "yAC-zHURpkpR",
        "outputId": "22c60f02-623a-4c3d-a5ea-3c459a5ae307"
      },
      "execution_count": null,
      "outputs": [
        {
          "output_type": "stream",
          "name": "stdout",
          "text": [
            "Help on function min_pair in module __main__:\n",
            "\n",
            "min_pair(nums)\n",
            "    Return the minimum sum of neighboring 2 numbers in the list 'nums'.\n",
            "    \n",
            "    Options:\n",
            "      nums - list of numbers\n",
            "\n"
          ]
        }
      ]
    },
    {
      "cell_type": "markdown",
      "source": [
        "#№ 7.2.5"
      ],
      "metadata": {
        "id": "RK4p_S0O2BUF"
      }
    },
    {
      "cell_type": "code",
      "source": [
        "\"\"\"\n",
        "Ошибки (номера строк через пробел, данная строка - №2): 13 16\n",
        "\"\"\"\n",
        "\n",
        "def non_negatives(nums):\n",
        "    \"\"\"\n",
        "    Returns list without negative numbers.\n",
        "\n",
        "    Options:\n",
        "      nums - list of integer and float numbers.\n",
        "    \"\"\"\n",
        "    i = 0\n",
        "    while i < len(nums): # \"while\" instead of \"for\" and \"range\"\n",
        "        if nums[i] < 0:\n",
        "            del nums[i]\n",
        "        else: # Added else\n",
        "            i += 1\n",
        "    return nums"
      ],
      "metadata": {
        "id": "2prwvEl62DLx"
      },
      "execution_count": null,
      "outputs": []
    },
    {
      "cell_type": "code",
      "source": [
        "import random\n",
        "\n",
        "n = 10\n",
        "nums = [round(random.uniform(-10, 10), 2) for i in range(n)]\n",
        "print(nums)\n",
        "\n",
        "try:\n",
        "    print(non_negatives(nums))\n",
        "except ValueError:\n",
        "    print('There`s something went wrong.')\n",
        "finally:\n",
        "    print('')\n",
        "    print('Process completed')"
      ],
      "metadata": {
        "colab": {
          "base_uri": "https://localhost:8080/"
        },
        "id": "gTpd6XL_w1Sw",
        "outputId": "53aef3ed-69a9-4640-cb1a-4d06f597963a"
      },
      "execution_count": null,
      "outputs": [
        {
          "output_type": "stream",
          "name": "stdout",
          "text": [
            "[-6.88, -9.82, -4.2, 9.14, 0.59, 1.27, 4.61, 9.2, -2.44, -6.94]\n",
            "[9.14, 0.59, 1.27, 4.61, 9.2]\n",
            "\n",
            "Process completed\n"
          ]
        }
      ]
    },
    {
      "cell_type": "code",
      "source": [
        "help(non_negatives)"
      ],
      "metadata": {
        "colab": {
          "base_uri": "https://localhost:8080/"
        },
        "id": "o73jmXRD0smi",
        "outputId": "1a9c40a4-f47f-4d01-c4f8-5fc81a49ec1f"
      },
      "execution_count": null,
      "outputs": [
        {
          "output_type": "stream",
          "name": "stdout",
          "text": [
            "Help on function non_negatives in module __main__:\n",
            "\n",
            "non_negatives(nums)\n",
            "    Returns list without negative numbers.\n",
            "    \n",
            "    Options:\n",
            "      nums - list of integer and float numbers.\n",
            "\n"
          ]
        }
      ]
    },
    {
      "cell_type": "markdown",
      "source": [
        "#№ 7.2.6"
      ],
      "metadata": {
        "id": "Yp8dRxMS3IgG"
      }
    },
    {
      "cell_type": "code",
      "source": [
        "def unemployment_rate(unemployed, employed):\n",
        "    \"\"\"\n",
        "    Return the unemployment rate (UR) in shares of 1.\n",
        "    Formula: UR = Unemployed / (Employed + Unemployed).\n",
        "\n",
        "    Options:\n",
        "      unemployed, employed - integer numbers.\n",
        "    \"\"\"\n",
        "    return unemployed / (employed + unemployed)\n"
      ],
      "metadata": {
        "id": "C4ggCFHB3J_3"
      },
      "execution_count": null,
      "outputs": []
    },
    {
      "cell_type": "code",
      "source": [
        "try:\n",
        "    unemployed = int(input(\"Enter the number of unemployed (persons): \"))\n",
        "    employed = int(input(\"Enter the number of employed (persons) \"))\n",
        "except ValueError:\n",
        "    print('Incorrect input data. Number is not an integer.')\n",
        "\n",
        "if (unemployed < 0) or (employed < 0):\n",
        "    print('Incorrect input data. Negative numbers.')\n",
        "else:\n",
        "    try:\n",
        "        rate = unemployment_rate(unemployed, employed)\n",
        "        print(\"Уровень безработицы = {:.1%}\".format(rate))\n",
        "    except ZeroDivisionError:\n",
        "        print('Incorrect input data. Division by zero.')\n",
        "        print('Recheck your data.')\n",
        "    finally:\n",
        "        print('')\n",
        "        print('Process completed')"
      ],
      "metadata": {
        "colab": {
          "base_uri": "https://localhost:8080/"
        },
        "id": "_Td1vmKC13xW",
        "outputId": "20c9496c-1507-4a17-ef07-1ca14865e064"
      },
      "execution_count": null,
      "outputs": [
        {
          "output_type": "stream",
          "name": "stdout",
          "text": [
            "Enter the number of unemployed (persons): 0\n",
            "Enter the number of employed (persons) 0\n",
            "Incorrect input data. Division by zero.\n",
            "Recheck your data.\n",
            "\n",
            "Process completed\n"
          ]
        }
      ]
    },
    {
      "cell_type": "code",
      "source": [
        "help(unemployment_rate)"
      ],
      "metadata": {
        "colab": {
          "base_uri": "https://localhost:8080/"
        },
        "id": "aioZIeW76uN2",
        "outputId": "795c180f-a1ed-4591-9d4d-b00fb635d8d3"
      },
      "execution_count": null,
      "outputs": [
        {
          "output_type": "stream",
          "name": "stdout",
          "text": [
            "Help on function unemployment_rate in module __main__:\n",
            "\n",
            "unemployment_rate(unemployed, employed)\n",
            "    Return the unemployment rate (UR) in shares of 1.\n",
            "    Formula: UR = Unemployed / (Employed + Unemployed).\n",
            "    \n",
            "    Options:\n",
            "      unemployed, employed - integer numbers.\n",
            "\n"
          ]
        }
      ]
    },
    {
      "cell_type": "markdown",
      "source": [
        "#№ 7.2.7"
      ],
      "metadata": {
        "id": "oiGk7VrX7Gz8"
      }
    },
    {
      "cell_type": "code",
      "source": [
        "def power(x, y=2):\n",
        "    \"\"\"\n",
        "    Returns number x in the power y.\n",
        "\n",
        "    Options:\n",
        "      x - integer number;\n",
        "      y (default, y=2) - integer number.\n",
        "    \"\"\"\n",
        "    if y == 0:\n",
        "        return 1\n",
        "    else:\n",
        "        return x * power(x, y - 1)\n"
      ],
      "metadata": {
        "id": "Xm-JWcb27H5S"
      },
      "execution_count": null,
      "outputs": []
    },
    {
      "cell_type": "code",
      "source": [
        "try:\n",
        "    x = int(input(\"Please enter x value: \"))\n",
        "    y = int(input(\"Please enter y value: \"))\n",
        "    print(f'Result: {power(x, y)}')\n",
        "except Exception as error1:\n",
        "    print(f'Error. Code: {type(error1)}')\n",
        "    print(f'Details: {error1}')"
      ],
      "metadata": {
        "colab": {
          "base_uri": "https://localhost:8080/"
        },
        "id": "7ySz97Gb7ujj",
        "outputId": "9901cf2a-f6c7-43e8-ae27-cd80cec1aa70"
      },
      "execution_count": null,
      "outputs": [
        {
          "output_type": "stream",
          "name": "stdout",
          "text": [
            "Please enter x value: 5\n",
            "Please enter y value: 3\n",
            "Result: 125\n"
          ]
        }
      ]
    },
    {
      "cell_type": "code",
      "source": [
        "help(power)"
      ],
      "metadata": {
        "colab": {
          "base_uri": "https://localhost:8080/"
        },
        "id": "VUaV4DS77QBL",
        "outputId": "94aa3dd3-0832-4224-88ea-b7dfba093df2"
      },
      "execution_count": null,
      "outputs": [
        {
          "output_type": "stream",
          "name": "stdout",
          "text": [
            "Help on function power in module __main__:\n",
            "\n",
            "power(x, y=2)\n",
            "    Returns number x in the power y.\n",
            "    \n",
            "    Options:\n",
            "      x - integer or float number;\n",
            "      y (default, y=2) - integer or float number.\n",
            "\n"
          ]
        }
      ]
    },
    {
      "cell_type": "markdown",
      "source": [
        "#№ 7.2.8"
      ],
      "metadata": {
        "id": "OxIR0gcSP4XA"
      }
    },
    {
      "cell_type": "code",
      "source": [
        "print(__doc__)\n",
        "\n",
        "\"\"\"\n",
        "Given a list of full names of people. Find the most common middle name.\n",
        "If there is no middle name, the person is not included in the calculation.\n",
        "\"\"\"\n",
        "\n",
        "try:\n",
        "    n = int(input(\"Enter people quantity: \"))\n",
        "\n",
        "    count = 0\n",
        "    middle_names = {}\n",
        "    for i in range(n):\n",
        "        fio = input(\"Enter names with spaces: \").split()\n",
        "        if len(fio) == 3: # Entering a new condition (if)\n",
        "            middle_name = fio[2]\n",
        "            middle_names[middle_name] = middle_names.get(middle_name, 0) + 1\n",
        "        else:\n",
        "            count += 1\n",
        "    print(sorted(middle_names.items(), key=lambda item: item[1])[-1][0])\n",
        "    print(\"В расчете участвовало человек:\", n - count)\n",
        "except ValueError:\n",
        "    print('Incorrect data input.')"
      ],
      "metadata": {
        "colab": {
          "base_uri": "https://localhost:8080/"
        },
        "id": "SeVra6eqP7vN",
        "outputId": "01007d84-4d7e-4d0a-a7a4-d30c66e1a43c"
      },
      "execution_count": null,
      "outputs": [
        {
          "output_type": "stream",
          "name": "stdout",
          "text": [
            "\n",
            "Given a list of full names of people. Find the most common middle name.\n",
            "If there is no middle name, the person is not included in the calculation.\n",
            "\n",
            "Enter people quantity: 3\n",
            "Enter names with spaces: p p e\n",
            "Enter names with spaces: o d q\n",
            "Enter names with spaces: o w q\n",
            "q\n",
            "В расчете участвовало человек: 3\n"
          ]
        }
      ]
    },
    {
      "cell_type": "markdown",
      "source": [
        "#№ 7.2.9"
      ],
      "metadata": {
        "id": "AJxzT1EXblcV"
      }
    },
    {
      "cell_type": "code",
      "source": [
        "def f(x):\n",
        "    \"\"\"\n",
        "    Returns function value\n",
        "\n",
        "    Function isn't check exceptions\n",
        "    \"\"\"\n",
        "    return x**2 / (x + 2) - 3"
      ],
      "metadata": {
        "id": "FQgRhq9LbmiT"
      },
      "execution_count": null,
      "outputs": []
    },
    {
      "cell_type": "code",
      "source": [
        "k = int(input(\"Введите границу интервала [-k; k]: \"))\n",
        "h = float(input(\"Введите шаг табуляции: \"))\n",
        "\n",
        "x = -k\n",
        "print(\"{:>10} {:>10}\".format(\"x\", \"f(x)\"))\n",
        "while x <= k:\n",
        "    # Если во время вычисления функции возникнет ошибка,\n",
        "    # при выводе необходимо указать прочерк \"-\"\n",
        "    # Данный случай должен обрабатывать второй вложенный блок try\n",
        "    try:\n",
        "        print(\"{:10.2f} {:10.2f}\".format(x, f(x)))\n",
        "    except:\n",
        "        print(\"{:10.2f} {:>10s}\".format(x, '-'))\n",
        "\n",
        "    x += h"
      ],
      "metadata": {
        "colab": {
          "base_uri": "https://localhost:8080/"
        },
        "id": "-EnXztBpfNJe",
        "outputId": "5ea8ebc7-8f02-40ff-b998-1ee8eb6bbff1"
      },
      "execution_count": null,
      "outputs": [
        {
          "output_type": "stream",
          "name": "stdout",
          "text": [
            "Введите границу интервала [-k; k]: 5\n",
            "Введите шаг табуляции: 0.5\n",
            "         x       f(x)\n",
            "     -5.00     -11.33\n",
            "     -4.50     -11.10\n",
            "     -4.00     -11.00\n",
            "     -3.50     -11.17\n",
            "     -3.00     -12.00\n",
            "     -2.50     -15.50\n",
            "     -2.00          -\n",
            "     -1.50       1.50\n",
            "     -1.00      -2.00\n",
            "     -0.50      -2.83\n",
            "      0.00      -3.00\n",
            "      0.50      -2.90\n",
            "      1.00      -2.67\n",
            "      1.50      -2.36\n",
            "      2.00      -2.00\n",
            "      2.50      -1.61\n",
            "      3.00      -1.20\n",
            "      3.50      -0.77\n",
            "      4.00      -0.33\n",
            "      4.50       0.12\n",
            "      5.00       0.57\n"
          ]
        }
      ]
    },
    {
      "cell_type": "code",
      "source": [
        "help(f)"
      ],
      "metadata": {
        "colab": {
          "base_uri": "https://localhost:8080/"
        },
        "id": "wLAi7KRZfb0n",
        "outputId": "df80ccd6-1209-4f47-ed66-13e60369dd17"
      },
      "execution_count": null,
      "outputs": [
        {
          "output_type": "stream",
          "name": "stdout",
          "text": [
            "Help on function f in module __main__:\n",
            "\n",
            "f(x)\n",
            "    Returns function value\n",
            "    \n",
            "    Function isn't check exceptions\n",
            "\n"
          ]
        }
      ]
    },
    {
      "cell_type": "markdown",
      "source": [
        "#№ 7.2.10"
      ],
      "metadata": {
        "id": "jT2oRDNyfujF"
      }
    },
    {
      "cell_type": "code",
      "source": [
        "\"\"\"\n",
        "The program stores a dictionary of entrance exams of the form Subject=Points.\n",
        "Find out if the applicant passes for a specialty, if you need to pass\n",
        "All of the listed exams with at least a score.\n",
        "\"\"\"\n",
        "\n",
        "req_exams = {\n",
        "    \"Информатика\": 80,\n",
        "    \"Математика\": 85,\n",
        "    \"Русский язык\": 75\n",
        "}\n",
        "\n",
        "print(\"\"\"Для определения возможности поступления, необходима информация о Вас.\n",
        "\n",
        "Для ввода экзамена и баллов введите их через |: Химия | 40.\n",
        "Для завершения ввода нажмите Enter.\n",
        "\"\"\")\n",
        "\n",
        "pass_exams = {}\n",
        "while True:\n",
        "    a = input(\"\").strip()\n",
        "    if a == \"\":\n",
        "        break\n",
        "    try:\n",
        "        exam, balls = [x.strip() for x in a.split(\"|\")]\n",
        "        pass_exams[exam] = int(balls)\n",
        "    except ValueError:\n",
        "        print('Incorrect input.')\n",
        "\n",
        "print(\"Ваши экзамены:\")\n",
        "for i, (exam, balls) in enumerate(pass_exams.items(), start=1):\n",
        "    print(\"{}) {} {}\".format(i, exam, balls))\n",
        "\n",
        "ok = False\n",
        "try:\n",
        "    for req_exams, balls in req_exams.items():\n",
        "        if pass_exams[req_exams] < balls:\n",
        "            break\n",
        "    else:\n",
        "        ok = True\n",
        "    print(\"Вы можете к нам поступить!\" if ok else \"Увы...\")\n",
        "except KeyError:\n",
        "    print('Ошибка воспроизведения. В вашем списке нет требуемых экзаменов.')"
      ],
      "metadata": {
        "colab": {
          "base_uri": "https://localhost:8080/"
        },
        "id": "XpvaC3DPfuX4",
        "outputId": "944763df-d41d-4cdc-aa69-7aa52c99fcd9"
      },
      "execution_count": null,
      "outputs": [
        {
          "output_type": "stream",
          "name": "stdout",
          "text": [
            "Для определения возможности поступления, необходима информация о Вас.\n",
            "\n",
            "Для ввода экзамена и баллов введите их через |: Химия | 40.\n",
            "Для завершения ввода нажмите Enter.\n",
            "\n",
            "\n",
            "Ваши экзамены:\n",
            "Ошибка воспроизведения. В вашем списке нет требуемых экзаменов.\n"
          ]
        }
      ]
    },
    {
      "cell_type": "code",
      "source": [
        "print(__doc__)"
      ],
      "metadata": {
        "colab": {
          "base_uri": "https://localhost:8080/"
        },
        "id": "9wP_jAZem7M6",
        "outputId": "3069f1cc-8e8b-406b-b1ea-79b5ac95dd8b"
      },
      "execution_count": null,
      "outputs": [
        {
          "output_type": "stream",
          "name": "stdout",
          "text": [
            "\n",
            "The program stores a dictionary of entrance exams of the form Subject=Points.\n",
            "Find out if the applicant passes for a specialty, if you need to pass\n",
            "All of the listed exams with at least a score.\n",
            "\n"
          ]
        }
      ]
    }
  ]
}