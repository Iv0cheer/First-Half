{
  "nbformat": 4,
  "nbformat_minor": 0,
  "metadata": {
    "colab": {
      "provenance": [],
      "authorship_tag": "ABX9TyOSTNmznIidS20huTzAalJR",
      "include_colab_link": true
    },
    "kernelspec": {
      "name": "python3",
      "display_name": "Python 3"
    },
    "language_info": {
      "name": "python"
    }
  },
  "cells": [
    {
      "cell_type": "markdown",
      "metadata": {
        "id": "view-in-github",
        "colab_type": "text"
      },
      "source": [
        "<a href=\"https://colab.research.google.com/github/Iv0cheer/IvCherenkov_Lab/blob/main/Lab3_Cherenkov.ipynb\" target=\"_parent\"><img src=\"https://colab.research.google.com/assets/colab-badge.svg\" alt=\"Open In Colab\"/></a>"
      ]
    },
    {
      "cell_type": "markdown",
      "source": [
        "# Программирование на языке высокого уровня (Python).\n",
        "# https://www.yuripetrov.ru/edu/python\n",
        "# Задание task_03_02_01.\n",
        "# Выполнил: Черенков И.Р.\n",
        "# Группа: АДЭУ-221\n",
        "# E-mail: iv0.cheer@gmail.com\n",
        "\n"
      ],
      "metadata": {
        "id": "MBwJV2vluXNb"
      }
    },
    {
      "cell_type": "markdown",
      "source": [
        "#№3.2.1\n",
        "\n",
        "Составьте программу, которая запрашивает у пользователя 2 целых числа и выполняет операции:"
      ],
      "metadata": {
        "id": "u7-C5ECt8CsH"
      }
    },
    {
      "cell_type": "code",
      "execution_count": 2,
      "metadata": {
        "colab": {
          "base_uri": "https://localhost:8080/"
        },
        "id": "4UHFjkzbuM3V",
        "outputId": "586a28e1-e82c-4acd-c90a-b86cf222e56c"
      },
      "outputs": [
        {
          "output_type": "stream",
          "name": "stdout",
          "text": [
            "a=2\n",
            "b=3\n",
            "5\n",
            "-1\n",
            "6\n",
            "0.67\n",
            "0\n",
            "2\n",
            "8\n",
            "True\n",
            "True\n",
            "False\n",
            "False\n",
            "True\n",
            "False\n"
          ]
        }
      ],
      "source": [
        "a = int(input(\"a=\"))\n",
        "b = int(input(\"b=\"))\n",
        "\n",
        "print(a+b) #Сумма.\n",
        "print(a-b) #Разность.\n",
        "print(a*b) #Произведение.\n",
        "round(a/b,2) #Деление с вычислением значения после запятой до двух знаков.\n",
        "print(round(a/b,2)) #Вывод на экран результата предыдущей строки.\n",
        "print(a//b) #Деление без дробной части.\n",
        "print(a%b) #Возвращает остаток от деления a на b.\n",
        "print(a**b) #Возведение числа a в степень b.\n",
        "print(a<b) #Меньше.\n",
        "print(a<=b) #Меньше или равно.\n",
        "print(a>b) #Больше.\n",
        "print(a>=b) #Больше или равно.\n",
        "print(a!=b) #Отрицание.\n",
        "print(a==b) #Проверка числа a на равенство с числом b.\n",
        "\n",
        "# --------------\n",
        "# Пример вывода:\n",
        "#\n",
        "# a=2\n",
        "# b=3\n",
        "# 5\n",
        "# -1\n",
        "# 6\n",
        "# 0.67\n",
        "# 0\n",
        "# 2\n",
        "# 8\n",
        "# True\n",
        "# True\n",
        "# False\n",
        "# False\n",
        "# True\n",
        "# False"
      ]
    },
    {
      "cell_type": "markdown",
      "source": [
        "#№ 3.2.2\n",
        "\n",
        "Вычислите значение следующего выражения (аргументы - целые числа и вводятся с клавиатуры):![POXTWgrjGwE.jpg](data:image/jpeg;base64,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)"
      ],
      "metadata": {
        "id": "3qxtWyj6u8-o"
      }
    },
    {
      "cell_type": "code",
      "source": [
        "x = int(input(\"x=\")) #Вводим значение x.\n",
        "y = int(input(\"y=\")) #Вводим значение y.\n",
        "z = int(input(\"z=\")) #Вводим значение z.\n",
        "\n",
        "res = ((((x**5+7)/(abs(-6)*y))**(1/3))/(7-z%y)) #Переводим логическое уравнение в код.\n",
        "print(round(res,2)) #Выводим на экран получившийся результат.\n",
        "\n",
        "# --------------\n",
        "# Пример вывода:\n",
        "#\n",
        "# x=0\n",
        "# y=1\n",
        "# z=2\n",
        "# 0.15"
      ],
      "metadata": {
        "colab": {
          "base_uri": "https://localhost:8080/",
          "height": 381
        },
        "id": "tiBAojy_vCpw",
        "outputId": "bbb1835b-b230-41fc-ec87-743b89222b44"
      },
      "execution_count": 16,
      "outputs": [
        {
          "output_type": "error",
          "ename": "KeyboardInterrupt",
          "evalue": "ignored",
          "traceback": [
            "\u001b[0;31m---------------------------------------------------------------------------\u001b[0m",
            "\u001b[0;31mKeyboardInterrupt\u001b[0m                         Traceback (most recent call last)",
            "\u001b[0;32m<ipython-input-16-a08824006d47>\u001b[0m in \u001b[0;36m<module>\u001b[0;34m\u001b[0m\n\u001b[0;32m----> 1\u001b[0;31m \u001b[0mx\u001b[0m \u001b[0;34m=\u001b[0m \u001b[0mint\u001b[0m\u001b[0;34m(\u001b[0m\u001b[0minput\u001b[0m\u001b[0;34m(\u001b[0m\u001b[0;34m\"x=\"\u001b[0m\u001b[0;34m)\u001b[0m\u001b[0;34m)\u001b[0m \u001b[0;31m#Вводим значение x.\u001b[0m\u001b[0;34m\u001b[0m\u001b[0;34m\u001b[0m\u001b[0m\n\u001b[0m\u001b[1;32m      2\u001b[0m \u001b[0my\u001b[0m \u001b[0;34m=\u001b[0m \u001b[0mint\u001b[0m\u001b[0;34m(\u001b[0m\u001b[0minput\u001b[0m\u001b[0;34m(\u001b[0m\u001b[0;34m\"y=\"\u001b[0m\u001b[0;34m)\u001b[0m\u001b[0;34m)\u001b[0m \u001b[0;31m#Вводим значение y.\u001b[0m\u001b[0;34m\u001b[0m\u001b[0;34m\u001b[0m\u001b[0m\n\u001b[1;32m      3\u001b[0m \u001b[0mz\u001b[0m \u001b[0;34m=\u001b[0m \u001b[0mint\u001b[0m\u001b[0;34m(\u001b[0m\u001b[0minput\u001b[0m\u001b[0;34m(\u001b[0m\u001b[0;34m\"z=\"\u001b[0m\u001b[0;34m)\u001b[0m\u001b[0;34m)\u001b[0m \u001b[0;31m#Вводим значение z.\u001b[0m\u001b[0;34m\u001b[0m\u001b[0;34m\u001b[0m\u001b[0m\n\u001b[1;32m      4\u001b[0m \u001b[0;34m\u001b[0m\u001b[0m\n\u001b[1;32m      5\u001b[0m \u001b[0mres\u001b[0m \u001b[0;34m=\u001b[0m \u001b[0;34m(\u001b[0m\u001b[0;34m(\u001b[0m\u001b[0;34m(\u001b[0m\u001b[0;34m(\u001b[0m\u001b[0mx\u001b[0m\u001b[0;34m**\u001b[0m\u001b[0;36m5\u001b[0m\u001b[0;34m+\u001b[0m\u001b[0;36m7\u001b[0m\u001b[0;34m)\u001b[0m\u001b[0;34m/\u001b[0m\u001b[0;34m(\u001b[0m\u001b[0mabs\u001b[0m\u001b[0;34m(\u001b[0m\u001b[0;34m-\u001b[0m\u001b[0;36m6\u001b[0m\u001b[0;34m)\u001b[0m\u001b[0;34m*\u001b[0m\u001b[0my\u001b[0m\u001b[0;34m)\u001b[0m\u001b[0;34m)\u001b[0m\u001b[0;34m**\u001b[0m\u001b[0;34m(\u001b[0m\u001b[0;36m1\u001b[0m\u001b[0;34m/\u001b[0m\u001b[0;36m3\u001b[0m\u001b[0;34m)\u001b[0m\u001b[0;34m)\u001b[0m\u001b[0;34m/\u001b[0m\u001b[0;34m(\u001b[0m\u001b[0;36m7\u001b[0m\u001b[0;34m-\u001b[0m\u001b[0mz\u001b[0m\u001b[0;34m%\u001b[0m\u001b[0my\u001b[0m\u001b[0;34m)\u001b[0m\u001b[0;34m)\u001b[0m \u001b[0;31m#Переводим логическое уравнение в код.\u001b[0m\u001b[0;34m\u001b[0m\u001b[0;34m\u001b[0m\u001b[0m\n",
            "\u001b[0;32m/usr/local/lib/python3.7/dist-packages/ipykernel/kernelbase.py\u001b[0m in \u001b[0;36mraw_input\u001b[0;34m(self, prompt)\u001b[0m\n\u001b[1;32m    861\u001b[0m             \u001b[0mself\u001b[0m\u001b[0;34m.\u001b[0m\u001b[0m_parent_ident\u001b[0m\u001b[0;34m,\u001b[0m\u001b[0;34m\u001b[0m\u001b[0;34m\u001b[0m\u001b[0m\n\u001b[1;32m    862\u001b[0m             \u001b[0mself\u001b[0m\u001b[0;34m.\u001b[0m\u001b[0m_parent_header\u001b[0m\u001b[0;34m,\u001b[0m\u001b[0;34m\u001b[0m\u001b[0;34m\u001b[0m\u001b[0m\n\u001b[0;32m--> 863\u001b[0;31m             \u001b[0mpassword\u001b[0m\u001b[0;34m=\u001b[0m\u001b[0;32mFalse\u001b[0m\u001b[0;34m,\u001b[0m\u001b[0;34m\u001b[0m\u001b[0;34m\u001b[0m\u001b[0m\n\u001b[0m\u001b[1;32m    864\u001b[0m         )\n\u001b[1;32m    865\u001b[0m \u001b[0;34m\u001b[0m\u001b[0m\n",
            "\u001b[0;32m/usr/local/lib/python3.7/dist-packages/ipykernel/kernelbase.py\u001b[0m in \u001b[0;36m_input_request\u001b[0;34m(self, prompt, ident, parent, password)\u001b[0m\n\u001b[1;32m    902\u001b[0m             \u001b[0;32mexcept\u001b[0m \u001b[0mKeyboardInterrupt\u001b[0m\u001b[0;34m:\u001b[0m\u001b[0;34m\u001b[0m\u001b[0;34m\u001b[0m\u001b[0m\n\u001b[1;32m    903\u001b[0m                 \u001b[0;31m# re-raise KeyboardInterrupt, to truncate traceback\u001b[0m\u001b[0;34m\u001b[0m\u001b[0;34m\u001b[0m\u001b[0;34m\u001b[0m\u001b[0m\n\u001b[0;32m--> 904\u001b[0;31m                 \u001b[0;32mraise\u001b[0m \u001b[0mKeyboardInterrupt\u001b[0m\u001b[0;34m(\u001b[0m\u001b[0;34m\"Interrupted by user\"\u001b[0m\u001b[0;34m)\u001b[0m \u001b[0;32mfrom\u001b[0m \u001b[0;32mNone\u001b[0m\u001b[0;34m\u001b[0m\u001b[0;34m\u001b[0m\u001b[0m\n\u001b[0m\u001b[1;32m    905\u001b[0m             \u001b[0;32mexcept\u001b[0m \u001b[0mException\u001b[0m \u001b[0;32mas\u001b[0m \u001b[0me\u001b[0m\u001b[0;34m:\u001b[0m\u001b[0;34m\u001b[0m\u001b[0;34m\u001b[0m\u001b[0m\n\u001b[1;32m    906\u001b[0m                 \u001b[0mself\u001b[0m\u001b[0;34m.\u001b[0m\u001b[0mlog\u001b[0m\u001b[0;34m.\u001b[0m\u001b[0mwarning\u001b[0m\u001b[0;34m(\u001b[0m\u001b[0;34m\"Invalid Message:\"\u001b[0m\u001b[0;34m,\u001b[0m \u001b[0mexc_info\u001b[0m\u001b[0;34m=\u001b[0m\u001b[0;32mTrue\u001b[0m\u001b[0;34m)\u001b[0m\u001b[0;34m\u001b[0m\u001b[0;34m\u001b[0m\u001b[0m\n",
            "\u001b[0;31mKeyboardInterrupt\u001b[0m: Interrupted by user"
          ]
        }
      ]
    },
    {
      "cell_type": "markdown",
      "source": [
        "#№ 3.2.3\n",
        "\n",
        "Дана электрическая цепь, состоящая из 2-х последовательно соединенных проводников (сопротивление каждого известно). Найти общее сопротивление цепи (округление результата необходимо выполнить до 1-го знака после запятой)."
      ],
      "metadata": {
        "id": "R-AISr_aw_wT"
      }
    },
    {
      "cell_type": "code",
      "source": [
        "print('Введите сопротивление первого проводника.')\n",
        "r1 = float(input()) #Вводим значение первого проводника через функцию невещественного числа float.\n",
        "print('Введите сопротивление второго проводника.')\n",
        "r2 = float(input()) #Вводим значение второго проводника через функцию невещественного числа float.\n",
        "r = r1+r2\n",
        "print('Общее сопротивление равно:', r1+r2)\n",
        "\n",
        "\n",
        "# --------------\n",
        "# Пример вывода:\n",
        "#\n",
        "# r1=12.2\n",
        "# r2=16.1\n",
        "# 28.3\n"
      ],
      "metadata": {
        "colab": {
          "base_uri": "https://localhost:8080/"
        },
        "id": "iwQCND7IxE5U",
        "outputId": "b9aaec48-9f74-4ebf-97ea-7169e2a0ec8d"
      },
      "execution_count": 5,
      "outputs": [
        {
          "output_type": "stream",
          "name": "stdout",
          "text": [
            "Введите сопротивление первого проводника.\n",
            "12.2\n",
            "Введите сопротивление второго проводника.\n",
            "16.1\n",
            "Общее сопротивление равно: 28.3\n"
          ]
        }
      ]
    },
    {
      "cell_type": "markdown",
      "source": [
        "#№ 3.2.4\n",
        "\n",
        "Дано двузначное и трехзначное число. Для каждого выведите на экран сумму и произведение цифр."
      ],
      "metadata": {
        "id": "o-SRaWo90fTi"
      }
    },
    {
      "cell_type": "code",
      "source": [
        "num2 = list(map(int, input(\"Введите двузначное число: \"))) #Ввод двухзначного числа.\n",
        "num3 = list(map(int, input(\"Введите трехзначное число: \"))) #Ввод трехзначного числа.\n",
        "\n",
        "num2_1 = num2[0]\n",
        "num2_2 = num2[1]\n",
        "\n",
        "num2_s = num2_1+num2_2\n",
        "num2_p = num2_1*num2_2\n",
        "\n",
        "num3_1 = num3[0]\n",
        "num3_2 = num3[1]\n",
        "num3_3 = num3[2]\n",
        "\n",
        "num3_s = num3_1+num3_2+num3_3\n",
        "num3_p = num3_1*num3_2*num3_3\n",
        "\n",
        "# Вывод результата\n",
        "print(\"Получившиеся сумма и произведение цифр первого числа: \",num2_s, num2_p)\n",
        "print(\"Получившиеся сумма и произведение цифр второго числа\", num3_s, num3_p)\n",
        "\n",
        "# --------------\n",
        "# Пример вывода:\n",
        "#\n",
        "# Двузначное число: 45\n",
        "# Трехзначное число: 456\n",
        "# Сумма и произведение цифр двузначного числа: 9 20\n",
        "# Сумма и произведение цифр трехзначного числа: 15 120\n"
      ],
      "metadata": {
        "colab": {
          "base_uri": "https://localhost:8080/"
        },
        "id": "wTv1lLbO1qZh",
        "outputId": "96154051-1aaa-45bc-ca23-8b76aabf7e13"
      },
      "execution_count": 15,
      "outputs": [
        {
          "output_type": "stream",
          "name": "stdout",
          "text": [
            "Введите двузначное число: 45\n",
            "Введите трехзначное число: 456\n",
            "Получившиеся сумма и произведение цифр первого числа:  9 20\n",
            "Получившиеся сумма и произведение цифр второго числа 15 120\n"
          ]
        }
      ]
    },
    {
      "cell_type": "markdown",
      "source": [
        "#№3.2.5\n",
        "\n",
        "С начала суток прошло m минут (0<m≤24∗60). Определите:\n",
        "\n",
        "целое количество часов, прошедших с начала суток;\n",
        "\n",
        "количество минут, прошедших с момента начала последнего часа."
      ],
      "metadata": {
        "id": "scbcMSFf8ots"
      }
    },
    {
      "cell_type": "code",
      "source": [],
      "metadata": {
        "id": "wT6ZX2DT8xAe"
      },
      "execution_count": null,
      "outputs": []
    },
    {
      "cell_type": "markdown",
      "source": [
        "#№ 3.2.6\n",
        "\n",
        "Дано уравнение ax + b = 0 и отрезок [m;n]. Ответьте на вопрос, попадает ли решение уравнения в указанный отрезок."
      ],
      "metadata": {
        "id": "GjbilSAL8yKz"
      }
    },
    {
      "cell_type": "code",
      "source": [
        "a = int(input(\"a= \"))\n",
        "b = int(input(\"b= \"))\n",
        "m = int(input(\"m= \"))\n",
        "n = int(input(\"n= \"))\n",
        "\n",
        "x = -b/a\n",
        "\n",
        "is_ok = bool((x>=m) and (x<=n))\n",
        "\n",
        "print(\"Попадает:\", is_ok)\n",
        "\n",
        "\n",
        "# --------------\n",
        "# Пример вывода:\n",
        "#\n",
        "# Введите a = 1\n",
        "# Введите b = 2\n",
        "# Введите m = -5\n",
        "# Введите n = 5\n",
        "# Попадает: True"
      ],
      "metadata": {
        "colab": {
          "base_uri": "https://localhost:8080/"
        },
        "id": "Xkc2cEx79HTn",
        "outputId": "a9cce1ff-7397-4cae-8561-72d943360d5a"
      },
      "execution_count": 18,
      "outputs": [
        {
          "output_type": "stream",
          "name": "stdout",
          "text": [
            "a= 1\n",
            "b= 1\n",
            "m= 1\n",
            "n= 1\n",
            "Попадает: False\n"
          ]
        }
      ]
    },
    {
      "cell_type": "markdown",
      "source": [
        "#№ 3.2.7\n",
        "\n",
        "Составьте программу, которая запрашивает название футбольной команды и повторяет его на экране со словами"
      ],
      "metadata": {
        "id": "6nGnJIq4AodM"
      }
    },
    {
      "cell_type": "code",
      "source": [
        "team = input(\"Введите название команды: \")\n",
        "\n",
        "print((team)+\"-чемпион!\")\n",
        "print(\"-\"*len(team))\n",
        "\n",
        "#Название команды в нижнем регистре\n",
        "team_lowercase =  print(team.lower())\n",
        "\n",
        "print(\"Символов в названии команды: \", len(team))\n",
        "print(\"Буква 'п' есть:\", bool(\"п\" in \"Спартак\"))\n",
        "print(\"Количество букв а:\",team.find('а'))\n",
        "\n",
        "\n",
        "\n",
        "# --------------\n",
        "# Пример вывода:\n",
        "#\n",
        "# Введите название команды: Спартак\n",
        "# Спартак - чемпион!\n",
        "# -------\n",
        "# Символов в названии команды: 7\n",
        "# Буква \"п\" есть: True\n",
        "# Количество букв \"а\": 2"
      ],
      "metadata": {
        "colab": {
          "base_uri": "https://localhost:8080/"
        },
        "id": "AkjNVmpvAqLe",
        "outputId": "0bb6d493-4460-48f3-c1b9-06304574de25"
      },
      "execution_count": 17,
      "outputs": [
        {
          "output_type": "stream",
          "name": "stdout",
          "text": [
            "Введите название команды: Спартак\n",
            "Спартак-чемпион!\n",
            "-------\n",
            "спартак\n",
            "Символов в названии команды:  7\n",
            "Буква 'п' есть: True\n",
            "Количество букв а: 2\n"
          ]
        }
      ]
    },
    {
      "cell_type": "markdown",
      "source": [
        "#№ 3.2.8\n",
        "\n",
        "Составьте программу, которая запрашивает название государства и его столицы, а затем выводит сообщение:"
      ],
      "metadata": {
        "id": "SsEZzVNFDkqs"
      }
    },
    {
      "cell_type": "code",
      "source": [
        "# Название государства\n",
        "country = input()\n",
        "# Название столицы\n",
        "capital = input()\n",
        "\n",
        "s1='Государство -'\n",
        "s2=\"столица -\"\n",
        "done = \"{} {}, {} {}\".format(s1,country,s2,capital)\n",
        "print(done)\n",
        "\n",
        "# --------------\n",
        "# Пример вывода:\n",
        "#\n",
        "# Введите название государства: Россия\n",
        "# Введите название столицы: Москва\n",
        "# Государство - Россия, столица - Москва\n"
      ],
      "metadata": {
        "id": "edZ7jDE1EBn8"
      },
      "execution_count": null,
      "outputs": []
    },
    {
      "cell_type": "markdown",
      "source": [
        "#№ 3.2.9\n",
        "\n",
        "Дано слово объектно-ориентированный. Используя индексацию и срезы составьте из него слова объект, ориентир, тир, кот, рента и выведите их на экран."
      ],
      "metadata": {
        "id": "UZBAED1VFO_Q"
      }
    },
    {
      "cell_type": "code",
      "source": [
        "word = \"объектно-ориентированный\"\n",
        "\n",
        "w1 = word[:6]\n",
        "w2 = word[9:17]\n",
        "w3 = word[14:17]\n",
        "w4 = word[4]+word[7]+word[5]\n",
        "w5 = word[10]+word[12:15]+word[19]\n",
        "\n",
        "print(w1, w2, w3, w4, w5, sep=\"\\n\")\n",
        "\n",
        "\n",
        "# --------------\n",
        "# Пример вывода:\n",
        "#\n",
        "# объект\n",
        "# ориентир\n",
        "# тир\n",
        "# кот\n",
        "# рента\n"
      ],
      "metadata": {
        "id": "VPaY4y_TFS22"
      },
      "execution_count": null,
      "outputs": []
    }
  ]
}