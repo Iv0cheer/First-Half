{
  "nbformat": 4,
  "nbformat_minor": 0,
  "metadata": {
    "colab": {
      "provenance": [],
      "collapsed_sections": [
        "xsAvY6BsSIZf",
        "IlPmIJWnSHyc",
        "mLyAuAh7Lxn4",
        "3Exx5NvlEBoF",
        "0P772MD1g1Wb",
        "lA9aBO_lpoY0",
        "0Ghh4yA_ZK8e",
        "kbYRZj3vveKF",
        "R-gj_mqH5syv"
      ],
      "authorship_tag": "ABX9TyPS83aKZ7owJUNpn/z39TFs",
      "include_colab_link": true
    },
    "kernelspec": {
      "name": "python3",
      "display_name": "Python 3"
    },
    "language_info": {
      "name": "python"
    }
  },
  "cells": [
    {
      "cell_type": "markdown",
      "metadata": {
        "id": "view-in-github",
        "colab_type": "text"
      },
      "source": [
        "<a href=\"https://colab.research.google.com/github/Iv0cheer/IvCherenkov_Lab/blob/main/Lab5_Cherenkov.ipynb\" target=\"_parent\"><img src=\"https://colab.research.google.com/assets/colab-badge.svg\" alt=\"Open In Colab\"/></a>"
      ]
    },
    {
      "cell_type": "markdown",
      "source": [
        "# Программирование на языке высокого уровня (Python).\n",
        "# https://www.yuripetrov.ru/edu/python\n",
        "# Задание Задание task_05_02_01.\n",
        "\n",
        "# Выполнил: Черенков И.Р.\n",
        "# Группа: АДЭУ-221\n",
        "# E-mail: iv0.cheer@gmail.com"
      ],
      "metadata": {
        "id": "uAPmsfUBUTb5"
      }
    },
    {
      "cell_type": "markdown",
      "source": [
        "#№ 5.2.1\n",
        "\n",
        "Определите значение, где sgn - сигнум-функция, а x и y - вещественные числа:\n",
        "\n",
        "![image.png](data:image/png;base64,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)\n",
        "\n",
        "![image.png](data:image/png;base64,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)"
      ],
      "metadata": {
        "id": "xsAvY6BsSIZf"
      }
    },
    {
      "cell_type": "code",
      "execution_count": 1,
      "metadata": {
        "id": "IHUkcOFnRyW2"
      },
      "outputs": [],
      "source": [
        "def sgn(x):\n",
        "    if x>0:\n",
        "        f = 1\n",
        "        return f\n",
        "    elif x==0:\n",
        "        f = 0\n",
        "        return f\n",
        "    elif x<0:\n",
        "        f = -1\n",
        "        return f"
      ]
    },
    {
      "cell_type": "code",
      "source": [
        "x = float(input('Введите x: '))\n",
        "y = float(input('Введите y: '))\n",
        "\n",
        "a = (sgn(x)+y*y)\n",
        "b = (sgn(y)-((abs(x))**(1/2)))\n",
        "z = a/b\n",
        "\n",
        "if b == 0:\n",
        "  print('Ошибка. Знаменатель равен нулю.')\n",
        "else:\n",
        "  print(round(z,2))\n",
        "\n",
        "# --------------\n",
        "# Пример вывода:\n",
        "#\n",
        "# Введите x: -9\n",
        "# Введите y: 0\n",
        "# Ответ: 0.33"
      ],
      "metadata": {
        "id": "iQOG7EDlpOW_",
        "colab": {
          "base_uri": "https://localhost:8080/"
        },
        "outputId": "29fbcb66-1d2a-41b4-d31e-ddf339bc262e"
      },
      "execution_count": 2,
      "outputs": [
        {
          "output_type": "stream",
          "name": "stdout",
          "text": [
            "Введите x: -9\n",
            "Введите y: 0\n",
            "0.33\n"
          ]
        }
      ]
    },
    {
      "cell_type": "markdown",
      "source": [
        "#№ 5.2.2\n",
        "\n",
        "Дан список температурных изменений в течение дня (целые числа). Известно, что измеряющее устройство иногда сбоит и записывает отсутствие температуры (значение ***None***).\n",
        "\n",
        "Выведите среднюю температуру за наблюдаемый промежуток времени, предварительно очистив список от неопределенных значений. Гарантируется, что хотя бы одно определенное значение в списке есть."
      ],
      "metadata": {
        "id": "IlPmIJWnSHyc"
      }
    },
    {
      "cell_type": "code",
      "source": [
        "def cleared_data(data):\n",
        "    for y in range(ls.count(data)):\n",
        "        if data in ls:\n",
        "            ls.pop(ls.index('None'))\n",
        "    return ls\n",
        "\n",
        "def avg(data):\n",
        "    summ = 0\n",
        "    k = 0\n",
        "    for i in data:\n",
        "        summ += i\n",
        "        k += 1\n",
        "    avg_ = summ/k\n",
        "    return avg_"
      ],
      "metadata": {
        "id": "fQ-5nLK0jpq0"
      },
      "execution_count": null,
      "outputs": []
    },
    {
      "cell_type": "code",
      "source": [
        "n = int(input('Кол-во измерений: '))\n",
        "por = 1\n",
        "ls = []\n",
        "for x in range(n):\n",
        "    g = input(f'Измерение {por}-е: ')\n",
        "    por += 1\n",
        "    if g == '-':\n",
        "        ls.append('None')\n",
        "    else:\n",
        "        ls.append(g)\n",
        "\n",
        "cleared_data('None')\n",
        "ls = list(map(int, ls))\n",
        "avg_ = avg(ls)\n",
        "print(f'Средняя температура: {avg_}')\n",
        "\n",
        "# --------------\n",
        "# Пример вывода:\n",
        "#\n",
        "# Кол-во измерений: 3\n",
        "# Измерение 1-е: 10\n",
        "# Измерение 2-е: -\n",
        "# Измерение 3-е: 20\n",
        "# Средняя температура: 15.00"
      ],
      "metadata": {
        "id": "YBdZOTMfpRIa"
      },
      "execution_count": null,
      "outputs": []
    },
    {
      "cell_type": "markdown",
      "source": [
        "#№ 5.2.3\n",
        "\n",
        "Выведите все счастливые номера билетов в диапазоне от a до b (положительные целые числа, a<b), если известно, что счастливым считается номер, у которого количество четных цифр равно количеству нечетных."
      ],
      "metadata": {
        "id": "mLyAuAh7Lxn4"
      }
    },
    {
      "cell_type": "code",
      "source": [
        "g = []\n",
        "\n",
        "def is_lucky(num):\n",
        "    odd1 = []\n",
        "    even1 = []\n",
        "    p_c = num%10\n",
        "    p_f = num//10\n",
        "    if p_c%2==0:\n",
        "        even1.append(p_c)\n",
        "    else:\n",
        "        odd1.append(p_c)\n",
        "    if p_f%2 == 0:\n",
        "        even1.append(p_c)\n",
        "    else:\n",
        "        odd1.append(p_c)\n",
        "    if len(odd1) == len(even1):\n",
        "        g.append(num)\n",
        "    odd1.clear()\n",
        "    even1.clear()\n",
        "    return g"
      ],
      "metadata": {
        "id": "WcEMT1QNL6Oz"
      },
      "execution_count": null,
      "outputs": []
    },
    {
      "cell_type": "code",
      "source": [
        "a = int(input('Введите первый номер билета: '))\n",
        "b = int(input('Введите последний номер билета: '))\n",
        "\n",
        "for x in range(a, b+1):\n",
        "  is_lucky(x)\n",
        "\n",
        "print(' '.join(map(str, g)))\n",
        "\n",
        "# Вывод должен быть осуществлен в строку с одним пробелом-разделителем\n",
        "# Удалите комментарий и допишите код\n",
        "\n",
        "# --------------\n",
        "# Пример вывода:\n",
        "#\n",
        "# Первый номер билета: 10\n",
        "# Последний номер билета: 25\n",
        "# 10 12 14 16 18 21 23 25"
      ],
      "metadata": {
        "colab": {
          "base_uri": "https://localhost:8080/"
        },
        "id": "AQ873tuopT84",
        "outputId": "80abd659-20a1-4201-939e-e6d670ee5ce6"
      },
      "execution_count": null,
      "outputs": [
        {
          "output_type": "stream",
          "name": "stdout",
          "text": [
            "Введите первый номер билета: 10\n",
            "Введите последний номер билета: 25\n",
            "10 12 14 16 18 21 23 25\n"
          ]
        }
      ]
    },
    {
      "cell_type": "markdown",
      "source": [
        "#№ 5.2.4\n",
        "\n",
        "Дата характеризуется тремя натуральными числами: день, месяц и год. Учитывая, что год может быть високосным, реализуйте две функции, которые определяют вчерашнюю и завтрашнюю дату."
      ],
      "metadata": {
        "id": "3Exx5NvlEBoF"
      }
    },
    {
      "cell_type": "code",
      "source": [
        "def is_leap(year):\n",
        "  if year % 4 ==0 and year %100 != 0 or year % 400 == 0:\n",
        "    feb_day=29\n",
        "  else:\n",
        "     feb_day = 28\n",
        "  return feb_day\n",
        "\n",
        "def days(month, year):\n",
        "  month_day_31=[1,3,5,7,8,10,12]\n",
        "  month_day_30=[4,6,9,11]\n",
        "  if month in month_day_31:\n",
        "    date=31\n",
        "  elif month in month_day_30:\n",
        "    date=30\n",
        "  else:\n",
        "    date=is_leap(year)\n",
        "  return date\n",
        "\n",
        "def previous_date(day, month, year):\n",
        "  if day == 1:\n",
        "    month -=1\n",
        "    if month == 0:\n",
        "      year -=1\n",
        "      month=12\n",
        "      day=days(month, year)\n",
        "    else:\n",
        "      year=year\n",
        "      month = month\n",
        "      day=days(month, year)\n",
        "  else:\n",
        "    day -=1\n",
        "    month=month\n",
        "    year=year\n",
        "  return day, month, year\n",
        "\n",
        "def next_date(day, month, year):\n",
        "  if day == days(month, year):\n",
        "    month += 1\n",
        "    if month == 13:\n",
        "      month=1\n",
        "      year+=1\n",
        "      day=1\n",
        "    else:\n",
        "      month=month\n",
        "      day=1\n",
        "      year=year\n",
        "  else:\n",
        "    day+=1\n",
        "    month = month\n",
        "    year=year\n",
        "  return day, month, year"
      ],
      "metadata": {
        "id": "TuAZxa4yEQE3"
      },
      "execution_count": null,
      "outputs": []
    },
    {
      "cell_type": "code",
      "source": [
        "dmn = input('День, месяц, год через пробел: ').split()\n",
        "print(dmn)\n",
        "dmn = map(int, dmn)\n",
        "day, month, year = dmn\n",
        "\n",
        "day_next, month_next, year_next = next_date(day, month, year)\n",
        "day_prev, month_prev, year_prev = previous_date(day, month, year)\n",
        "\n",
        "print(f'Предыдущий день: {day_prev}/{month_prev}/{year_prev}')\n",
        "print(f'Следующий день: {day_next}/{month_next}/{year_next}')\n",
        "\n",
        "# --------------\n",
        "# Пример вывода:\n",
        "#\n",
        "# День, месяц, год через пробел: 1 3 2000\n",
        "# Предыдущий день: 29/02/2000\n",
        "# Следующий день: 02/03/2000"
      ],
      "metadata": {
        "id": "V1DSY9P_w3G7"
      },
      "execution_count": null,
      "outputs": []
    },
    {
      "cell_type": "markdown",
      "source": [
        "#№ 5.2.6\n",
        "\n",
        "Дан список из чисел.\n",
        "\n",
        "Определите их НОК (наименьшее общее кратное) и НОД (наибольший общий делитель)."
      ],
      "metadata": {
        "id": "0P772MD1g1Wb"
      }
    },
    {
      "cell_type": "code",
      "source": [
        "def gcd(first, second):\n",
        "  if second > first:\n",
        "    a = second\n",
        "  else:\n",
        "    a = first\n",
        "  for i in range(1,a+1):\n",
        "    if (first % i == 0) and (second % i == 0 ):\n",
        "      gcd = i\n",
        "  return gcd\n",
        "\n",
        "\n",
        "def lcm(first, second):\n",
        "  if first > second:\n",
        "    a = first\n",
        "  else:\n",
        "    a = second\n",
        "  while(True):\n",
        "    if (a % first == 0) and (a % second == 0):\n",
        "      return a\n",
        "    a += 1\n",
        "\n",
        "def gcd_nums(nums):\n",
        "  for x in range(1, len(nums) - 1):\n",
        "    nums[x] = gcd(nums[x-1], nums[x])\n",
        "  return nums[x]\n",
        "\n",
        "def lcm_nums(nums):\n",
        "  for x in range(1, len(nums)):\n",
        "    nums[x] = lcm(nums[x-1], nums[x])\n",
        "  return nums[x]"
      ],
      "metadata": {
        "id": "f6POxwMPhBFv"
      },
      "execution_count": null,
      "outputs": []
    },
    {
      "cell_type": "code",
      "source": [
        "nums = input('Введите чилса через пробел: ').split()\n",
        "nums = list(map(int, nums))\n",
        "nums1 = nums.copy()\n",
        "gcd_d = gcd_nums(nums)\n",
        "lcm_d = lcm_nums(nums1)\n",
        "\n",
        "print('НОД = ', gcd_d)\n",
        "print('НОК = ', lcm_d)\n",
        "\n",
        "# --------------\n",
        "# Пример вывода:\n",
        "#\n",
        "# Введите числа через пробел: 8 10 14\n",
        "# НОД = 2\n",
        "# НОК = 280\n",
        "#\n",
        "# Введите числа через пробел: 6 8 24 16\n",
        "# НОД = 2\n",
        "# НОК = 48"
      ],
      "metadata": {
        "colab": {
          "base_uri": "https://localhost:8080/"
        },
        "id": "wThuS5KYpHYL",
        "outputId": "215507bf-6b65-433f-e38b-e4982e0c0e41"
      },
      "execution_count": null,
      "outputs": [
        {
          "output_type": "stream",
          "name": "stdout",
          "text": [
            "Введите чилса через пробел: 8 10 14\n",
            "НОД =  2\n",
            "НОК =  280\n"
          ]
        }
      ]
    },
    {
      "cell_type": "markdown",
      "source": [
        "#№ 5.2.7\n",
        "\n",
        "Даны n предложений. Определите, сколько из них содержат хотя бы одну цифру."
      ],
      "metadata": {
        "id": "XD7E70tE4fzf"
      }
    },
    {
      "cell_type": "code",
      "source": [
        "def has_digits(sentence):\n",
        "    sentences = 0\n",
        "    sentence_list = list(map(str, sentence))\n",
        "    digit = '123456789'\n",
        "    digits = list(map(str, digit))\n",
        "    for y in digits:\n",
        "        if y in sentence_list:\n",
        "            sentences += 1\n",
        "    return sentences\n",
        "\n",
        "\n",
        "def sentences_with_digits_count(sentences):\n",
        "    print(f'Предложений с цифрой = {sentences}')"
      ],
      "metadata": {
        "id": "k0JXkhft4e9N"
      },
      "execution_count": null,
      "outputs": []
    },
    {
      "cell_type": "code",
      "source": [
        "n = int(input('Введите количество предложений: '))\n",
        "sentences = 0\n",
        "amount = 0\n",
        "\n",
        "for x in range(n):\n",
        "  sentence1 = input(f'Введите предложение №{x+1}: ')\n",
        "  f = has_digits(sentence1)\n",
        "  if f == 1:\n",
        "    amount += 1\n",
        "\n",
        "sentences_with_digits_count(amount)\n",
        "\n",
        "# --------------\n",
        "# Пример вывода:\n",
        "#\n",
        "# Введите количество предложений: 3\n",
        "# Введите предложение №1:\n",
        "# Просто текст\n",
        "# Введите предложение №2:\n",
        "# Текст с цифрой 1 (один)\n",
        "# Введите предложение №3:\n",
        "# Тут нет цифры\n",
        "# Предложений с цифрой = 1"
      ],
      "metadata": {
        "colab": {
          "base_uri": "https://localhost:8080/"
        },
        "id": "8aTde9FNZf16",
        "outputId": "7791c094-1548-46e5-a54d-c845c059b154"
      },
      "execution_count": null,
      "outputs": [
        {
          "output_type": "stream",
          "name": "stdout",
          "text": [
            "Введите количество предложений: 3\n",
            "Введите предложение №1: Просто текст \n",
            "Введите предложение №2: Текст с цифрой 1\n",
            "Введите предложение №3: Просто текст с цифрой 2\n",
            "Предложений с цифрой = 2\n"
          ]
        }
      ]
    },
    {
      "cell_type": "markdown",
      "source": [
        "#№ 5.2.8\n",
        "\n",
        "Дана строка s и символ k. Реализуйте функцию, рисующую рамку из символа k вокруг данной строки."
      ],
      "metadata": {
        "id": "lA9aBO_lpoY0"
      }
    },
    {
      "cell_type": "code",
      "source": [
        "def print_with_border(string, char):\n",
        "    w = list(map(str, string))\n",
        "    fw = len(w)+2\n",
        "    print(f'{char}'*fw+'\\n'+f'{char}'+f'{string}'+f'{char}'+'\\n'+f'{char}'*fw)"
      ],
      "metadata": {
        "id": "r2TRG8QapnS7"
      },
      "execution_count": 5,
      "outputs": []
    },
    {
      "cell_type": "code",
      "source": [
        "s = input('Введите строку: ')\n",
        "k = input('Введите символ: ')\n",
        "\n",
        "print_with_border(s, k)\n",
        "\n",
        "# --------------\n",
        "# Пример вывода:\n",
        "#\n",
        "# Введите строку: Просто текст\n",
        "# Введите символ: +\n",
        "# ++++++++++++++\n",
        "# +Просто текст+\n",
        "# ++++++++++++++"
      ],
      "metadata": {
        "id": "jcNosWvUsbfv"
      },
      "execution_count": null,
      "outputs": []
    },
    {
      "cell_type": "markdown",
      "source": [
        "#№ 5.2.9\n",
        "\n",
        "Напишите функции для перевода числа (N∈[2;16]):\n",
        "\n",
        "• из 10-й системы счисления в N-ю;\n",
        "\n",
        "• из N-й системы счисления в 10-ю."
      ],
      "metadata": {
        "id": "DWgOCOgZskNH"
      }
    },
    {
      "cell_type": "code",
      "source": [
        "LETTERS_EX = {10: \"A\", 11: \"B\", 12: \"C\", 13: \"D\", 14: \"E\", 15: \"F\"}\n",
        "DIGITS_EX = {\"A\": 10, \"B\": 11, \"C\": 12, \"D\": 13, \"E\": 14, \"F\": 15}\n",
        "\n",
        "DIGITS_ALL = '0123456789ABCDEF'\n",
        "\n",
        "def to_base(number, base):\n",
        "  f = ''\n",
        "  while number>0:\n",
        "    new = number % base\n",
        "    f = DIGITS_ALL[new] + f\n",
        "    number = number // base\n",
        "  return f\n",
        "\n",
        "def from_base(number, base):\n",
        "    f = ''\n",
        "    n = 0\n",
        "    done = 0\n",
        "    while number >= 1:\n",
        "      new1 = number%10 * (base**n)\n",
        "      n += 1\n",
        "      done += new1\n",
        "      number = number // 10\n",
        "    return done"
      ],
      "metadata": {
        "id": "sZenNKHrttCb"
      },
      "execution_count": null,
      "outputs": []
    },
    {
      "cell_type": "code",
      "source": [
        "a = to_base(10, 2)\n",
        "b = from_base(1010, 2)\n",
        "\n",
        "print(a)\n",
        "print(b)\n",
        "# --------------\n",
        "# Пример вывода:\n",
        "#\n",
        "# Нет"
      ],
      "metadata": {
        "colab": {
          "base_uri": "https://localhost:8080/"
        },
        "id": "D1Pcr_7VpQIM",
        "outputId": "f76ac415-97fd-4da2-97e5-db11adea978b"
      },
      "execution_count": null,
      "outputs": [
        {
          "output_type": "stream",
          "name": "stdout",
          "text": [
            "1010\n",
            "10\n"
          ]
        }
      ]
    },
    {
      "cell_type": "markdown",
      "source": [
        "#№ 5.2.11\n",
        "Используя шифр Цезаря (достаточно только букв русского алфавита, знаки препинания не изменяются), зашифруйте, а затем расшифруйте введенную строку."
      ],
      "metadata": {
        "id": "gxUdP2ahxlnh"
      }
    },
    {
      "cell_type": "markdown",
      "source": [
        "```Очень долго пытался разобраться с кодом, взял код с сайта, который прилагался к заданию (оставлю ниже), но не смог, расписал себе все пояснения, но все равно как-то трудно.```\n",
        "\n",
        "(https://ru.wikipedia.org/wiki/Шифр_Цезаря)"
      ],
      "metadata": {
        "id": "kFlxn_eEtV9D"
      }
    },
    {
      "cell_type": "code",
      "source": [
        "def ceasar(text,shift):\n",
        "  letters = [chr(i) for i in range(ord('a'), ord('я')+1)] #нижний регистр\n",
        "  let_up = [chr(i) for i in range(ord('A'), ord('Я')+1)] #верхний регистр\n",
        "  resource = [] #результат\n",
        "  f = ''\n",
        "  for i in range(len(txt)): #проверка на регистр\n",
        "    if txt[i] in letters: #проверка на нижний регистр\n",
        "      f = letters\n",
        "    elif txt[i] in let_up: #проверка на верхний регистр\n",
        "      f = let_up\n",
        "    else: #если не буква\n",
        "      resource.append(txt[i])\n",
        "    if txt[i] in f:\n",
        "      for p in range(len(f)): #перебор букв (еще раз)\n",
        "        if f[p] == txt[i] and len(f) > shift+p >= 0: # Если порядковый номер буквы + ключ находятся в диапазоне от 0 до конца азбуки\n",
        "          resource.append(f[p+shift]) # то в результат добавляется буква со сдвигом key (зашифрованная буква)\n",
        "        elif f[p] == txt[i] and len(f) <= p+shift: # Если порядковый номер буквы + ключ выходит из диапазона азбуки, превышая его\n",
        "          resource.append(n[(1-p-shift)%(len(f)-1)]) # то в результат добавляеться буква со сдвигом key, при этом преводя порядковый номер буквы к диапазону азбуки\n",
        "        elif f[p] == txt[i] and 0 > shift+p: # Если порядковый номер буквы + ключ выходит из диапазона азбуки, недотягивает до него\n",
        "          resource.append(f[(p+shift) % len(f)]) # то в результат добавляется буква со сдвигом key\n",
        "  return ''.join(resource)"
      ],
      "metadata": {
        "id": "igXaXTGGyV_Z"
      },
      "execution_count": null,
      "outputs": []
    },
    {
      "cell_type": "code",
      "source": [
        "txt = input('Введите предложение: ')\n",
        "shift = int(input('Введите сдвиг: '))\n",
        "\n",
        "encoded = ceasar(txt, shift)\n",
        "decoded = txt\n",
        "print(\"Зашифрованная строка:\", encoded)\n",
        "print(\"Расшифрованная строка:\", decoded)\n",
        "\n",
        "# --------------\n",
        "# Пример вывода:\n",
        "#\n",
        "# Введите предложение: ПрограММиРОВание С++\n",
        "# Введите сдвиг: 4\n",
        "# Зашифрованная строка: УфтзфдРРмФТЖдсмй Х++\n",
        "# Расшифрованная строка: ПрограММиРОВание С++"
      ],
      "metadata": {
        "colab": {
          "base_uri": "https://localhost:8080/"
        },
        "id": "BzjfA2UA0dGC",
        "outputId": "67cdb57e-8045-46e9-8fe0-65f3b23d8440"
      },
      "execution_count": null,
      "outputs": [
        {
          "output_type": "stream",
          "name": "stdout",
          "text": [
            "Введите предложение: ПрограММиРОВание С++\n",
            "Введите сдвиг: 4\n",
            "Зашифрованная строка: УфтзфдРРмФТЖдсмй Х++\n",
            "Расшифрованная строка: ПрограММиРОВание С++\n"
          ]
        }
      ]
    },
    {
      "cell_type": "markdown",
      "source": [
        "Ниже код с 21.10.22 (написан вместе с преподавателем на паре)"
      ],
      "metadata": {
        "id": "qNi1s20rDInV"
      }
    },
    {
      "cell_type": "code",
      "source": [
        "def input_data():\n",
        "  smeshenie = int(input('Шаг шифровки: '))\n",
        "  message = input('Введите сообщение: ').upper()\n",
        "  return cezar(message, smeshenie)\n",
        "\n",
        "def cezar(message, smeshenie):\n",
        "  alfavit = 'АБВГДЕЁЖЗИЙКЛМНОПРСТУФХЦЧШЩЪЬЭЮЯ'\n",
        "  itog = ''\n",
        "  for i in message:\n",
        "    mesto = alfavit.find(i)\n",
        "    new_mesto = mesto + smeshenie\n",
        "    if i in alfavit:\n",
        "      itog += alfavit[new_mesto]\n",
        "    else:\n",
        "      itog += i\n",
        "  return itog\n",
        "\n",
        "def print_res(res):\n",
        "  if res:\n",
        "    print(res)\n",
        "  else:\n",
        "    print('Что-то пошло не так.')"
      ],
      "metadata": {
        "id": "KbBhWW8_DFQt"
      },
      "execution_count": null,
      "outputs": []
    },
    {
      "cell_type": "markdown",
      "source": [
        "#№ 5.2.14\n",
        "\n",
        "Напишите функцию, которая принимает неограниченное количество числовых аргументов и возвращает кортеж из двух списков:\n",
        "```\n",
        "• отрицательных значений (отсортирован по убыванию);\n",
        "\n",
        "• неотрицательных значений (отсортирован по возрастанию).\n",
        "```"
      ],
      "metadata": {
        "id": "0Ghh4yA_ZK8e"
      }
    },
    {
      "cell_type": "code",
      "source": [
        "def split_numbers(*args):\n",
        "  positive = []\n",
        "  negative = []\n",
        "  for x in args:\n",
        "    if x < 0:\n",
        "      negative.append(x)\n",
        "      negative_sort = sorted(negative)\n",
        "      negative_sort.reverse()\n",
        "    else:\n",
        "      positive.append(x)\n",
        "      positive_sort = sorted(positive)\n",
        "  return negative_sort, positive_sort"
      ],
      "metadata": {
        "id": "0-CSmCfIZKpB"
      },
      "execution_count": null,
      "outputs": []
    },
    {
      "cell_type": "code",
      "source": [
        "print(split_numbers(1, 4, -5, 0, -33))\n",
        "\n",
        "# --------------\n",
        "# Пример вывода:\n",
        "#\n",
        "# ([-5, -33], [0, 1, 4])"
      ],
      "metadata": {
        "colab": {
          "base_uri": "https://localhost:8080/"
        },
        "id": "wREVOQTda76a",
        "outputId": "2d33a278-862e-4591-b724-fb9e1d4d95af"
      },
      "execution_count": null,
      "outputs": [
        {
          "output_type": "stream",
          "name": "stdout",
          "text": [
            "([-5, -33], [0, 1, 4])\n"
          ]
        }
      ]
    },
    {
      "cell_type": "markdown",
      "source": [
        "#№ 5.2.16\n",
        "\n",
        "Составьте две функции для возведения числа в степень: один из вариантов реализуйте в рекурсивном стиле."
      ],
      "metadata": {
        "id": "kbYRZj3vveKF"
      }
    },
    {
      "cell_type": "code",
      "source": [
        "def pow1(value,base):\n",
        "  if base == 0:\n",
        "    return 1\n",
        "  else:\n",
        "    return value**base\n",
        "\n",
        "def pow2(value, base):\n",
        "  if base == 0:\n",
        "    return 1\n",
        "  else:\n",
        "    return pow2(value, base-1)*value\n",
        "\n",
        "# --------------\n",
        "# Пример вывода:\n",
        "#\n",
        "# 125\n",
        "# 125"
      ],
      "metadata": {
        "id": "Ech5ZGElvhcx"
      },
      "execution_count": null,
      "outputs": []
    },
    {
      "cell_type": "code",
      "source": [
        "print(pow1(5,3))\n",
        "print(pow2(5,3))"
      ],
      "metadata": {
        "colab": {
          "base_uri": "https://localhost:8080/"
        },
        "id": "UHHSuyed5jTn",
        "outputId": "7f44e377-f8ce-46cd-b864-d64746777cf3"
      },
      "execution_count": null,
      "outputs": [
        {
          "output_type": "stream",
          "name": "stdout",
          "text": [
            "125\n",
            "125\n"
          ]
        }
      ]
    },
    {
      "cell_type": "markdown",
      "source": [
        "#№ 5.2.17\n",
        "\n",
        "Дано натуральное число. Напишите рекурсивные функции для определения:\n",
        "```\n",
        "• суммы цифр числа;\n",
        "\n",
        "• количества цифр в числе.\n",
        "```\n",
        "\n"
      ],
      "metadata": {
        "id": "R-gj_mqH5syv"
      }
    },
    {
      "cell_type": "code",
      "source": [
        "def digits_sum(value):\n",
        "  if value == 0:\n",
        "    return 0\n",
        "  else:\n",
        "    return (value%10) + digits_sum(value//10) \n",
        "\n",
        "\n",
        "\n",
        "def digits_count(value):\n",
        "  if value == 1:\n",
        "    return 1\n",
        "  else:\n",
        "    return value**0 + digits_count(value//10)"
      ],
      "metadata": {
        "id": "aDvQpmjv52Ad"
      },
      "execution_count": null,
      "outputs": []
    },
    {
      "cell_type": "code",
      "source": [
        "print(digits_sum(12345))\n",
        "print(digits_count(12345))\n",
        "\n",
        "# --------------\n",
        "# Пример вывода:\n",
        "#\n",
        "# 15\n",
        "# 5"
      ],
      "metadata": {
        "colab": {
          "base_uri": "https://localhost:8080/"
        },
        "id": "wWjh5OuzR0nq",
        "outputId": "013bc591-2384-473f-965c-363020194459"
      },
      "execution_count": null,
      "outputs": [
        {
          "output_type": "stream",
          "name": "stdout",
          "text": [
            "15\n",
            "5\n"
          ]
        }
      ]
    }
  ]
}