{
  "nbformat": 4,
  "nbformat_minor": 0,
  "metadata": {
    "colab": {
      "provenance": [],
      "authorship_tag": "ABX9TyPKGrXCgTiNJ5LiGzkhTrV2",
      "include_colab_link": true
    },
    "kernelspec": {
      "name": "python3",
      "display_name": "Python 3"
    },
    "language_info": {
      "name": "python"
    }
  },
  "cells": [
    {
      "cell_type": "markdown",
      "metadata": {
        "id": "view-in-github",
        "colab_type": "text"
      },
      "source": [
        "<a href=\"https://colab.research.google.com/github/Iv0cheer/IvCherenkov_Lab/blob/main/Lab6_Cherenkov.ipynb\" target=\"_parent\"><img src=\"https://colab.research.google.com/assets/colab-badge.svg\" alt=\"Open In Colab\"/></a>"
      ]
    },
    {
      "cell_type": "markdown",
      "source": [
        "# Программирование на языке высокого уровня (Python).\n",
        "# https://www.yuripetrov.ru/edu/python\n",
        "\n",
        "# Выполнил: Черенков И.Р.\n",
        "# Группа: АДЭУ-221\n",
        "# E-mail: iv0.cheer@gmail.com\n"
      ],
      "metadata": {
        "id": "oZSLxsvK_nqj"
      }
    },
    {
      "cell_type": "markdown",
      "source": [
        "# Шпаргалка для себя\n",
        "\n",
        "**Постоянное время:** O(1).\n",
        "\n",
        "**Линейное время:** O(N).\n",
        "\n",
        "**Логарифмическое время:** O(logN).\n",
        "\n",
        "**Линейно-логарифмическое время:** O(NlogN).\n",
        "\n",
        "**Квадратичное время:** O(N2)."
      ],
      "metadata": {
        "id": "2fybgfluj7yo"
      }
    },
    {
      "cell_type": "markdown",
      "source": [
        "# Структура выполнения задания\n",
        "\n",
        "Задача с общей сложностью и под ней расчеты этой сложности"
      ],
      "metadata": {
        "id": "9JoGZEFklRRD"
      }
    },
    {
      "cell_type": "markdown",
      "source": [
        "#6.2.1"
      ],
      "metadata": {
        "id": "s9Tr5-WZLDhN"
      }
    },
    {
      "cell_type": "code",
      "source": [
        "def foo(a):\n",
        "  \"\"\"\n",
        "  Вводная переменная - список.\n",
        "  Функция сортирует список от меньшего значения к большему.\n",
        "\n",
        "  Общая сложность: O(N^2)\n",
        "  \"\"\"\n",
        "  for i in range(len(a), 0, -1): # O(N) + O(1) = O(N)\n",
        "    for j in range(1, i): # O(N)\n",
        "      if a[j-1] > a[j]: # O(1) + O(1) = 2*O(1) = O(1)\n",
        "        a[j-1], a[j] = a[j], a[j-1] # O(1) + O(1) = 2*O(1) = O(1)\n",
        "  return a # O(1)\n",
        "\n",
        "# O(N) * O(N) + O(1) + O(1) + O(1) = O(N^2) + 3*O(1) = O(N^2)\n",
        "\n",
        "a = [1, 2, 3, 4, 2, 1, 3, 4, 3, 5, -2, -2, 2, -2, 65, 2, 2]\n",
        "foo(a)"
      ],
      "metadata": {
        "id": "g17z--QW_nfi"
      },
      "execution_count": null,
      "outputs": []
    },
    {
      "cell_type": "markdown",
      "source": [
        "# 6.2.2"
      ],
      "metadata": {
        "id": "KUx5ECR1LUMr"
      }
    },
    {
      "cell_type": "code",
      "execution_count": null,
      "metadata": {
        "id": "qlMFuU_6_fgU"
      },
      "outputs": [],
      "source": [
        "def foo(i):\n",
        "  \"\"\"\n",
        "  Вводная переменная - целое число.\n",
        "  Функция преобразует integer (целое число) в string (строка).\n",
        "\n",
        "  N = 1\n",
        "  Общая сложность: O(N)\n",
        "  \"\"\"\n",
        "  digits = \"0123456789\" # O(1)\n",
        "  if i == 0: # 2*O(1)\n",
        "    return \"0\" # O(1)\n",
        "  result = \"\" # O(1)\n",
        "  while i > 0: # O(N) + O(1) = O(N)\n",
        "    result = digits[i%10] + result # O(1) + O(1) + O(1) = O(1)\n",
        "    i = i // 10 # O(1) + O(1) = O(1)\n",
        "  return result # O(1)\n",
        "\n",
        "# O(1) + O(1) + O(N) * O(1) = 2*O(1) + O(N) = O(1) + O(N) = O(N)"
      ]
    },
    {
      "cell_type": "markdown",
      "source": [
        "# 6.2.3"
      ],
      "metadata": {
        "id": "N8yHFD83QBAh"
      }
    },
    {
      "cell_type": "code",
      "source": [
        "def foo(s):\n",
        "  \"\"\"\n",
        "  Вводная переменная - строка.\n",
        "  Функция вытаскивает все цифры из строки и преобразует их в целое число\n",
        "\n",
        "  N = len(s)\n",
        "  Общая сложность: O(N^2)\n",
        "  \"\"\"\n",
        "  val = 0 # O(1)\n",
        "  for c in s: # O(N)\n",
        "    if c.isdigit(): # O(N)\n",
        "      val += int(c) # O(1) + O(1) = O(1)\n",
        "  return val # O(1)\n",
        "\n",
        "# O(1) + O(N) * O(N) * O(1) = O(N^2)"
      ],
      "metadata": {
        "id": "F2na5XKUQCTB"
      },
      "execution_count": null,
      "outputs": []
    },
    {
      "cell_type": "markdown",
      "source": [
        "# 6.2.4"
      ],
      "metadata": {
        "id": "ekGCwhRfVppP"
      }
    },
    {
      "cell_type": "code",
      "source": [
        "def foo(n):\n",
        "  \"\"\"\n",
        "  Вводная переменная - целое число.\n",
        "  Функция находит все простые числа от 0 до указанного числа.\n",
        "\n",
        "  N = 1\n",
        "  Общая сложность: O(N^2)\n",
        "  \"\"\"\n",
        "  res = [] # O(1)\n",
        "  for i in range(1, n + 1): # O(N) + O(1) = O(N)\n",
        "    divisors = 0 # O(1)\n",
        "    j = 2 # O(1)\n",
        "    while j < i and divisors == 0: # O(N) + O(1) + O(1) = O(N) + 2*O(1) = O(N)\n",
        "      if i % j == 0: # O(1) + O(1) = 2*O(1) = O(1)\n",
        "          divisors += 1 # O(1)\n",
        "      j += 1 # O(1)\n",
        "    if divisors == 0: # O(1) + O(1) = 2*O(1) = O(1)\n",
        "      res.append(i) # O(1)\n",
        "\n",
        "  return res # O(1)\n",
        "\n",
        "# O(1) + O(N) * (2*O(1) + O(N) * 2*O(1) * O(1)) = O(N^2)"
      ],
      "metadata": {
        "id": "UC_YAolgVrE9"
      },
      "execution_count": null,
      "outputs": []
    },
    {
      "cell_type": "markdown",
      "source": [
        "# 6.2.5"
      ],
      "metadata": {
        "id": "4WvsrekMYfxf"
      }
    },
    {
      "cell_type": "code",
      "source": [
        "def foo(nums):\n",
        "  \"\"\"\n",
        "  Вводная переменная - список.\n",
        "  Проверяет список на наличие четных цифр внутри него.\n",
        "  \n",
        "  N = len(nums)\n",
        "  Общая сложность: O(N)\n",
        "  \"\"\"\n",
        "  for x in nums: # O(N)\n",
        "    if x % 2 == 0: # O(1) + O(1) = 2*O(1) = O(1)\n",
        "      return True # O(1)\n",
        "  else:\n",
        "    return False # O(1)\n",
        "\n",
        "# O(N) * O(1) * O(1) = O(N)"
      ],
      "metadata": {
        "id": "n04UgqCaYhE6"
      },
      "execution_count": null,
      "outputs": []
    },
    {
      "cell_type": "markdown",
      "source": [
        "# 6.2.6"
      ],
      "metadata": {
        "id": "tNktvMOya28e"
      }
    },
    {
      "cell_type": "code",
      "source": [
        "def foo(nums):\n",
        "  \"\"\"\n",
        "  Вводная переменная - список.\n",
        "  Выводит сумму первого элемента списка и последнего, возведенного в 2-ю степень.\n",
        "\n",
        "  N = len(nums)\n",
        "  Общая сложность: O(1)\n",
        "  \"\"\"\n",
        "  return (nums[0] + nums[-1] ** 2) # O(1) + O(1) = 2*O(1) = O(1)\n",
        "\n",
        "# O(1) + O(1) = 2*O(1) = O(1)"
      ],
      "metadata": {
        "id": "hYoUvCima4WE"
      },
      "execution_count": null,
      "outputs": []
    },
    {
      "cell_type": "markdown",
      "source": [
        "# 6.2.7"
      ],
      "metadata": {
        "id": "w05YTcKYh-QC"
      }
    },
    {
      "cell_type": "code",
      "source": [
        "def foo(low, high):\n",
        "  \"\"\"\n",
        "  Вводный переменные - целые числа.\n",
        "  Угадывает загаданное число пользователя.\n",
        "\n",
        "  N = 2\n",
        "  Общая сложность: O(N)\n",
        "  \"\"\"\n",
        "  guessing = True # O(1)\n",
        "  while guessing: # O(N)\n",
        "    guess = (low + high) // 2 # O(1) + O(1) = 2*O(1) = O(1)\n",
        "    print(\"Загаданное число {0}?\".format(guess)) # O(1)\n",
        "    pointer = input(\n",
        "      \"Введите '+', если Ваше число меньше.\\n\"\n",
        "      \"Введите '-' если Ваше число больше.\\n\"\n",
        "      \"Введите '=', если я угадал.\\n\").lower() # O(1)\n",
        "    if pointer == \"+\": # O(len(pointer) + O(1) = O(1) + O(1) = 2*O(1) = O(1)\n",
        "      high = guess # O(1)\n",
        "    elif pointer == \"-\": # O(len(pointer) + O(1) = O(1) + O(1) = 2*O(1) = O(1)\n",
        "      low = guess # O(1)\n",
        "    elif pointer == \"=\": # O(len(pointer) + O(1) = O(1) + O(1) = 2*O(1) = O(1)\n",
        "      guessing = False # O(1)\n",
        "    else:\n",
        "      print(\"Введите '+', '-' или '='.\") # O(1)\n",
        "\n",
        "  return guess # O(1)\n",
        "\n",
        "# O(1) + O(N) * (O(1) + O(1) + O(1) + 3*O(1)*O(1)) = O(1) + O(N) * 6*O(1) = O(N)\n",
        "\n",
        "low, high = 0, 100\n",
        "print(\"Пожалуйста, загадайте число от {0} до {1}!\".format(low, high))\n",
        "guess = foo(low, high)\n",
        "print(\"Игра окончена, Вы загадали число: {0}.\".format(guess))"
      ],
      "metadata": {
        "id": "5xYwh_Jmh9vV"
      },
      "execution_count": null,
      "outputs": []
    },
    {
      "cell_type": "markdown",
      "source": [
        "# 6.2.8"
      ],
      "metadata": {
        "id": "m7I-ccUAlvzg"
      }
    },
    {
      "cell_type": "code",
      "source": [
        "import random\n",
        "import time\n",
        "\n",
        "\n",
        "def timeit(func, *args, **kw):\n",
        "    \"\"\"Выполнить функицю 'func' с параметрами '*args', '**kw' и\n",
        "    вернуть время выполнения в мс.\"\"\"\n",
        "\n",
        "    time_start = time.time()\n",
        "    res = func(*args, **kw)\n",
        "    time_end = time.time()\n",
        "\n",
        "    return (time_end - time_start) * 1000.0, res\n",
        "\n",
        "\n",
        "def maxmin1(data):\n",
        "  \"\"\"\n",
        "  Вводная переменная - список целых чисел.\n",
        "  Вернуть минимум и максимум из 'data'.\n",
        "\n",
        "  N = len(data)\n",
        "  Общая сложность: O(N)\n",
        "  \"\"\"\n",
        "  max1 = data[0] # O(1) + O(1) = 2*O(1) = O(1)\n",
        "  for x in data: # O(N)\n",
        "    if x > max1: # 2*O(1) = O(1)\n",
        "      max1 = x # O(1)\n",
        "  \n",
        "  min1 = data[0] # O(1) + O(1) = 2*O(1) = O(1)\n",
        "  for y in data: # O(N)\n",
        "    if y < min1: # O(1) + O(1) = 2*O(1)\n",
        "      min1 = x # O(1)\n",
        "  return max1, min1 # O(1)\n",
        "\n",
        "# O(1) + O(N) * O(1) * O(1) + O(1) + O(N) * O(1) = O(N)\n",
        "\n",
        "def maxmin2(data):\n",
        "  \"\"\"\n",
        "  Вводная переменная - список целых чисел.\n",
        "  Вернуть минимум и максимум из 'data'.\n",
        "\n",
        "  N = len(data)\n",
        "  Общая сложность: O(N LogN)\n",
        "  \"\"\"\n",
        "  data.sort() # O(N LogN)\n",
        "  max2 = data[-1] # O(1)\n",
        "  min2 = data[0] # O(1)\n",
        "  return max2, min2 # O(1)\n",
        "\n",
        "# O(N LogN) + 3*O(1) = O(N LogN)\n",
        "\n",
        "def maxmin3(data):\n",
        "  \"\"\"\n",
        "  Вводная переменная - список целых чисел.\n",
        "  Вернуть минимум и максимум из 'data'.\n",
        "\n",
        "  N = len(data)\n",
        "  Общая сложность: O(N)\n",
        "  \"\"\"\n",
        "  max3 = max(data) # O(1) + O(N) = O(N)\n",
        "  min3 = min(data) # O(1) + O(N) = O(N)\n",
        "  return max3, min3 # O(1)\n",
        "\n",
        "# O(N) + O(N) + O(1) = 2*O(N) + O(1) = O(N)\n",
        "\n",
        "if __name__ == \"__main__\":\n",
        "    GEN_LIMIT = 1000000\n",
        "    dataset = []\n",
        "    for i in range(4, 7):\n",
        "        dataset.append(random.sample(range(-GEN_LIMIT, GEN_LIMIT), 10**i))\n",
        "\n",
        "    res = [[\"i\", \"1 способ (мс.)\", \"2 способ (мс.)\", \"3 способ (мс.)\"]]\n",
        "    for data in dataset:\n",
        "        res.append([len(data),\n",
        "                   timeit(maxmin1, data)[0],\n",
        "                   timeit(maxmin2, data)[0],\n",
        "                   timeit(maxmin3, data)[0]])\n",
        "\n",
        "    # Вывод\n",
        "    print(\"{:>15} {:>15} {:>15} {:>15}\".format(*res[0]))\n",
        "    for r in res[1:]:\n",
        "        print(\"{:>15} {:>15.2f} {:>15.2f} {:>15.2f}\".format(*r))\n",
        "\n",
        "# -------------\n",
        "# Пример вывода:\n",
        "#\n",
        "#              i  1 способ (мс.)  2 способ (мс.)  3 способ (мс.)\n",
        "#          10000            1.00            5.00            0.00\n",
        "#            ..."
      ],
      "metadata": {
        "id": "chxYr3TWl3P6"
      },
      "execution_count": null,
      "outputs": []
    }
  ]
}